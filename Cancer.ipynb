{
 "cells": [
  {
   "cell_type": "code",
   "execution_count": 1,
   "metadata": {},
   "outputs": [],
   "source": [
    "import pandas as pd\n",
    "import numpy as np\n",
    "import seaborn as sns\n",
    "import matplotlib.pyplot as plt\n",
    "from sklearn.model_selection import train_test_split\n",
    "from sklearn.preprocessing import LabelEncoder\n",
    "from sklearn.ensemble import RandomForestClassifier\n",
    "from sklearn.tree import DecisionTreeClassifier\n",
    "from sklearn.metrics import confusion_matrix, accuracy_score\n",
    "from sklearn.model_selection import learning_curve\n",
    "import re"
   ]
  },
  {
   "cell_type": "code",
   "execution_count": 3,
   "metadata": {},
   "outputs": [
    {
     "data": {
      "text/html": [
       "<div>\n",
       "<style scoped>\n",
       "    .dataframe tbody tr th:only-of-type {\n",
       "        vertical-align: middle;\n",
       "    }\n",
       "\n",
       "    .dataframe tbody tr th {\n",
       "        vertical-align: top;\n",
       "    }\n",
       "\n",
       "    .dataframe thead th {\n",
       "        text-align: right;\n",
       "    }\n",
       "</style>\n",
       "<table border=\"1\" class=\"dataframe\">\n",
       "  <thead>\n",
       "    <tr style=\"text-align: right;\">\n",
       "      <th></th>\n",
       "      <th>id</th>\n",
       "      <th>Clump_Thickness</th>\n",
       "      <th>Uniformity_of_Cell_Size</th>\n",
       "      <th>Uniformity_of_Cell_Shape</th>\n",
       "      <th>Marginal_Adhesion</th>\n",
       "      <th>Single_Epithelial_Cell_Size</th>\n",
       "      <th>Bare_Nuclei</th>\n",
       "      <th>Bland_Chromatin</th>\n",
       "      <th>Normal_Nucleoli</th>\n",
       "      <th>Mitoses</th>\n",
       "      <th>Class</th>\n",
       "    </tr>\n",
       "  </thead>\n",
       "  <tbody>\n",
       "    <tr>\n",
       "      <th>0</th>\n",
       "      <td>1000025</td>\n",
       "      <td>5</td>\n",
       "      <td>1</td>\n",
       "      <td>1</td>\n",
       "      <td>1</td>\n",
       "      <td>2</td>\n",
       "      <td>1</td>\n",
       "      <td>3</td>\n",
       "      <td>1</td>\n",
       "      <td>1</td>\n",
       "      <td>2</td>\n",
       "    </tr>\n",
       "    <tr>\n",
       "      <th>1</th>\n",
       "      <td>1002945</td>\n",
       "      <td>5</td>\n",
       "      <td>4</td>\n",
       "      <td>4</td>\n",
       "      <td>5</td>\n",
       "      <td>7</td>\n",
       "      <td>10</td>\n",
       "      <td>3</td>\n",
       "      <td>2</td>\n",
       "      <td>1</td>\n",
       "      <td>2</td>\n",
       "    </tr>\n",
       "    <tr>\n",
       "      <th>2</th>\n",
       "      <td>1015425</td>\n",
       "      <td>3</td>\n",
       "      <td>1</td>\n",
       "      <td>1</td>\n",
       "      <td>1</td>\n",
       "      <td>2</td>\n",
       "      <td>2</td>\n",
       "      <td>3</td>\n",
       "      <td>1</td>\n",
       "      <td>1</td>\n",
       "      <td>2</td>\n",
       "    </tr>\n",
       "    <tr>\n",
       "      <th>3</th>\n",
       "      <td>1016277</td>\n",
       "      <td>6</td>\n",
       "      <td>8</td>\n",
       "      <td>8</td>\n",
       "      <td>1</td>\n",
       "      <td>3</td>\n",
       "      <td>4</td>\n",
       "      <td>3</td>\n",
       "      <td>7</td>\n",
       "      <td>1</td>\n",
       "      <td>2</td>\n",
       "    </tr>\n",
       "    <tr>\n",
       "      <th>4</th>\n",
       "      <td>1017023</td>\n",
       "      <td>4</td>\n",
       "      <td>1</td>\n",
       "      <td>1</td>\n",
       "      <td>3</td>\n",
       "      <td>2</td>\n",
       "      <td>1</td>\n",
       "      <td>3</td>\n",
       "      <td>1</td>\n",
       "      <td>1</td>\n",
       "      <td>2</td>\n",
       "    </tr>\n",
       "  </tbody>\n",
       "</table>\n",
       "</div>"
      ],
      "text/plain": [
       "        id  Clump_Thickness  Uniformity_of_Cell_Size  \\\n",
       "0  1000025                5                        1   \n",
       "1  1002945                5                        4   \n",
       "2  1015425                3                        1   \n",
       "3  1016277                6                        8   \n",
       "4  1017023                4                        1   \n",
       "\n",
       "   Uniformity_of_Cell_Shape  Marginal_Adhesion  Single_Epithelial_Cell_Size  \\\n",
       "0                         1                  1                            2   \n",
       "1                         4                  5                            7   \n",
       "2                         1                  1                            2   \n",
       "3                         8                  1                            3   \n",
       "4                         1                  3                            2   \n",
       "\n",
       "  Bare_Nuclei  Bland_Chromatin  Normal_Nucleoli  Mitoses  Class  \n",
       "0           1                3                1        1      2  \n",
       "1          10                3                2        1      2  \n",
       "2           2                3                1        1      2  \n",
       "3           4                3                7        1      2  \n",
       "4           1                3                1        1      2  "
      ]
     },
     "execution_count": 3,
     "metadata": {},
     "output_type": "execute_result"
    }
   ],
   "source": [
    "df=pd.read_csv('data.csv')\n",
    "df.head()"
   ]
  },
  {
   "cell_type": "code",
   "execution_count": 4,
   "metadata": {},
   "outputs": [
    {
     "data": {
      "text/plain": [
       "(699, 11)"
      ]
     },
     "execution_count": 4,
     "metadata": {},
     "output_type": "execute_result"
    }
   ],
   "source": [
    "df.shape"
   ]
  },
  {
   "cell_type": "code",
   "execution_count": 5,
   "metadata": {},
   "outputs": [],
   "source": [
    "df = df.drop(columns='Bare_Nuclei')\n",
    "df = df.drop(columns='id')"
   ]
  },
  {
   "cell_type": "code",
   "execution_count": 6,
   "metadata": {},
   "outputs": [
    {
     "data": {
      "text/html": [
       "<div>\n",
       "<style scoped>\n",
       "    .dataframe tbody tr th:only-of-type {\n",
       "        vertical-align: middle;\n",
       "    }\n",
       "\n",
       "    .dataframe tbody tr th {\n",
       "        vertical-align: top;\n",
       "    }\n",
       "\n",
       "    .dataframe thead th {\n",
       "        text-align: right;\n",
       "    }\n",
       "</style>\n",
       "<table border=\"1\" class=\"dataframe\">\n",
       "  <thead>\n",
       "    <tr style=\"text-align: right;\">\n",
       "      <th></th>\n",
       "      <th>Clump_Thickness</th>\n",
       "      <th>Uniformity_of_Cell_Size</th>\n",
       "      <th>Uniformity_of_Cell_Shape</th>\n",
       "      <th>Marginal_Adhesion</th>\n",
       "      <th>Single_Epithelial_Cell_Size</th>\n",
       "      <th>Bland_Chromatin</th>\n",
       "      <th>Normal_Nucleoli</th>\n",
       "      <th>Mitoses</th>\n",
       "      <th>Class</th>\n",
       "    </tr>\n",
       "  </thead>\n",
       "  <tbody>\n",
       "    <tr>\n",
       "      <th>0</th>\n",
       "      <td>5</td>\n",
       "      <td>1</td>\n",
       "      <td>1</td>\n",
       "      <td>1</td>\n",
       "      <td>2</td>\n",
       "      <td>3</td>\n",
       "      <td>1</td>\n",
       "      <td>1</td>\n",
       "      <td>2</td>\n",
       "    </tr>\n",
       "    <tr>\n",
       "      <th>1</th>\n",
       "      <td>5</td>\n",
       "      <td>4</td>\n",
       "      <td>4</td>\n",
       "      <td>5</td>\n",
       "      <td>7</td>\n",
       "      <td>3</td>\n",
       "      <td>2</td>\n",
       "      <td>1</td>\n",
       "      <td>2</td>\n",
       "    </tr>\n",
       "    <tr>\n",
       "      <th>2</th>\n",
       "      <td>3</td>\n",
       "      <td>1</td>\n",
       "      <td>1</td>\n",
       "      <td>1</td>\n",
       "      <td>2</td>\n",
       "      <td>3</td>\n",
       "      <td>1</td>\n",
       "      <td>1</td>\n",
       "      <td>2</td>\n",
       "    </tr>\n",
       "    <tr>\n",
       "      <th>3</th>\n",
       "      <td>6</td>\n",
       "      <td>8</td>\n",
       "      <td>8</td>\n",
       "      <td>1</td>\n",
       "      <td>3</td>\n",
       "      <td>3</td>\n",
       "      <td>7</td>\n",
       "      <td>1</td>\n",
       "      <td>2</td>\n",
       "    </tr>\n",
       "    <tr>\n",
       "      <th>4</th>\n",
       "      <td>4</td>\n",
       "      <td>1</td>\n",
       "      <td>1</td>\n",
       "      <td>3</td>\n",
       "      <td>2</td>\n",
       "      <td>3</td>\n",
       "      <td>1</td>\n",
       "      <td>1</td>\n",
       "      <td>2</td>\n",
       "    </tr>\n",
       "  </tbody>\n",
       "</table>\n",
       "</div>"
      ],
      "text/plain": [
       "   Clump_Thickness  Uniformity_of_Cell_Size  Uniformity_of_Cell_Shape  \\\n",
       "0                5                        1                         1   \n",
       "1                5                        4                         4   \n",
       "2                3                        1                         1   \n",
       "3                6                        8                         8   \n",
       "4                4                        1                         1   \n",
       "\n",
       "   Marginal_Adhesion  Single_Epithelial_Cell_Size  Bland_Chromatin  \\\n",
       "0                  1                            2                3   \n",
       "1                  5                            7                3   \n",
       "2                  1                            2                3   \n",
       "3                  1                            3                3   \n",
       "4                  3                            2                3   \n",
       "\n",
       "   Normal_Nucleoli  Mitoses  Class  \n",
       "0                1        1      2  \n",
       "1                2        1      2  \n",
       "2                1        1      2  \n",
       "3                7        1      2  \n",
       "4                1        1      2  "
      ]
     },
     "execution_count": 6,
     "metadata": {},
     "output_type": "execute_result"
    }
   ],
   "source": [
    "df.head()"
   ]
  },
  {
   "cell_type": "code",
   "execution_count": 7,
   "metadata": {},
   "outputs": [
    {
     "data": {
      "text/plain": [
       "(699, 9)"
      ]
     },
     "execution_count": 7,
     "metadata": {},
     "output_type": "execute_result"
    }
   ],
   "source": [
    "df.shape"
   ]
  },
  {
   "cell_type": "code",
   "execution_count": 8,
   "metadata": {},
   "outputs": [
    {
     "data": {
      "text/html": [
       "<div>\n",
       "<style scoped>\n",
       "    .dataframe tbody tr th:only-of-type {\n",
       "        vertical-align: middle;\n",
       "    }\n",
       "\n",
       "    .dataframe tbody tr th {\n",
       "        vertical-align: top;\n",
       "    }\n",
       "\n",
       "    .dataframe thead th {\n",
       "        text-align: right;\n",
       "    }\n",
       "</style>\n",
       "<table border=\"1\" class=\"dataframe\">\n",
       "  <thead>\n",
       "    <tr style=\"text-align: right;\">\n",
       "      <th></th>\n",
       "      <th>Clump_Thickness</th>\n",
       "      <th>Uniformity_of_Cell_Size</th>\n",
       "      <th>Uniformity_of_Cell_Shape</th>\n",
       "      <th>Marginal_Adhesion</th>\n",
       "      <th>Single_Epithelial_Cell_Size</th>\n",
       "      <th>Bland_Chromatin</th>\n",
       "      <th>Normal_Nucleoli</th>\n",
       "      <th>Mitoses</th>\n",
       "      <th>Class</th>\n",
       "    </tr>\n",
       "  </thead>\n",
       "  <tbody>\n",
       "    <tr>\n",
       "      <th>count</th>\n",
       "      <td>699.000000</td>\n",
       "      <td>699.000000</td>\n",
       "      <td>699.000000</td>\n",
       "      <td>699.000000</td>\n",
       "      <td>699.000000</td>\n",
       "      <td>699.000000</td>\n",
       "      <td>699.000000</td>\n",
       "      <td>699.000000</td>\n",
       "      <td>699.000000</td>\n",
       "    </tr>\n",
       "    <tr>\n",
       "      <th>mean</th>\n",
       "      <td>4.417740</td>\n",
       "      <td>3.134478</td>\n",
       "      <td>3.207439</td>\n",
       "      <td>2.806867</td>\n",
       "      <td>3.216023</td>\n",
       "      <td>3.437768</td>\n",
       "      <td>2.866953</td>\n",
       "      <td>1.589413</td>\n",
       "      <td>2.689557</td>\n",
       "    </tr>\n",
       "    <tr>\n",
       "      <th>std</th>\n",
       "      <td>2.815741</td>\n",
       "      <td>3.051459</td>\n",
       "      <td>2.971913</td>\n",
       "      <td>2.855379</td>\n",
       "      <td>2.214300</td>\n",
       "      <td>2.438364</td>\n",
       "      <td>3.053634</td>\n",
       "      <td>1.715078</td>\n",
       "      <td>0.951273</td>\n",
       "    </tr>\n",
       "    <tr>\n",
       "      <th>min</th>\n",
       "      <td>1.000000</td>\n",
       "      <td>1.000000</td>\n",
       "      <td>1.000000</td>\n",
       "      <td>1.000000</td>\n",
       "      <td>1.000000</td>\n",
       "      <td>1.000000</td>\n",
       "      <td>1.000000</td>\n",
       "      <td>1.000000</td>\n",
       "      <td>2.000000</td>\n",
       "    </tr>\n",
       "    <tr>\n",
       "      <th>25%</th>\n",
       "      <td>2.000000</td>\n",
       "      <td>1.000000</td>\n",
       "      <td>1.000000</td>\n",
       "      <td>1.000000</td>\n",
       "      <td>2.000000</td>\n",
       "      <td>2.000000</td>\n",
       "      <td>1.000000</td>\n",
       "      <td>1.000000</td>\n",
       "      <td>2.000000</td>\n",
       "    </tr>\n",
       "    <tr>\n",
       "      <th>50%</th>\n",
       "      <td>4.000000</td>\n",
       "      <td>1.000000</td>\n",
       "      <td>1.000000</td>\n",
       "      <td>1.000000</td>\n",
       "      <td>2.000000</td>\n",
       "      <td>3.000000</td>\n",
       "      <td>1.000000</td>\n",
       "      <td>1.000000</td>\n",
       "      <td>2.000000</td>\n",
       "    </tr>\n",
       "    <tr>\n",
       "      <th>75%</th>\n",
       "      <td>6.000000</td>\n",
       "      <td>5.000000</td>\n",
       "      <td>5.000000</td>\n",
       "      <td>4.000000</td>\n",
       "      <td>4.000000</td>\n",
       "      <td>5.000000</td>\n",
       "      <td>4.000000</td>\n",
       "      <td>1.000000</td>\n",
       "      <td>4.000000</td>\n",
       "    </tr>\n",
       "    <tr>\n",
       "      <th>max</th>\n",
       "      <td>10.000000</td>\n",
       "      <td>10.000000</td>\n",
       "      <td>10.000000</td>\n",
       "      <td>10.000000</td>\n",
       "      <td>10.000000</td>\n",
       "      <td>10.000000</td>\n",
       "      <td>10.000000</td>\n",
       "      <td>10.000000</td>\n",
       "      <td>4.000000</td>\n",
       "    </tr>\n",
       "  </tbody>\n",
       "</table>\n",
       "</div>"
      ],
      "text/plain": [
       "       Clump_Thickness  Uniformity_of_Cell_Size  Uniformity_of_Cell_Shape  \\\n",
       "count       699.000000               699.000000                699.000000   \n",
       "mean          4.417740                 3.134478                  3.207439   \n",
       "std           2.815741                 3.051459                  2.971913   \n",
       "min           1.000000                 1.000000                  1.000000   \n",
       "25%           2.000000                 1.000000                  1.000000   \n",
       "50%           4.000000                 1.000000                  1.000000   \n",
       "75%           6.000000                 5.000000                  5.000000   \n",
       "max          10.000000                10.000000                 10.000000   \n",
       "\n",
       "       Marginal_Adhesion  Single_Epithelial_Cell_Size  Bland_Chromatin  \\\n",
       "count         699.000000                   699.000000       699.000000   \n",
       "mean            2.806867                     3.216023         3.437768   \n",
       "std             2.855379                     2.214300         2.438364   \n",
       "min             1.000000                     1.000000         1.000000   \n",
       "25%             1.000000                     2.000000         2.000000   \n",
       "50%             1.000000                     2.000000         3.000000   \n",
       "75%             4.000000                     4.000000         5.000000   \n",
       "max            10.000000                    10.000000        10.000000   \n",
       "\n",
       "       Normal_Nucleoli     Mitoses       Class  \n",
       "count       699.000000  699.000000  699.000000  \n",
       "mean          2.866953    1.589413    2.689557  \n",
       "std           3.053634    1.715078    0.951273  \n",
       "min           1.000000    1.000000    2.000000  \n",
       "25%           1.000000    1.000000    2.000000  \n",
       "50%           1.000000    1.000000    2.000000  \n",
       "75%           4.000000    1.000000    4.000000  \n",
       "max          10.000000   10.000000    4.000000  "
      ]
     },
     "execution_count": 8,
     "metadata": {},
     "output_type": "execute_result"
    }
   ],
   "source": [
    "df.describe()"
   ]
  },
  {
   "cell_type": "code",
   "execution_count": 9,
   "metadata": {},
   "outputs": [
    {
     "name": "stdout",
     "output_type": "stream",
     "text": [
      "Class\n",
      "2    458\n",
      "4    241\n",
      "dtype: int64\n"
     ]
    }
   ],
   "source": [
    "print(df.groupby('Class').size())"
   ]
  },
  {
   "cell_type": "code",
   "execution_count": 11,
   "metadata": {},
   "outputs": [],
   "source": [
    "df['Class'][df['Class'] == 4] = 1 \n",
    "df['Class'][df['Class'] == 2] = 0"
   ]
  },
  {
   "cell_type": "code",
   "execution_count": 12,
   "metadata": {},
   "outputs": [
    {
     "name": "stdout",
     "output_type": "stream",
     "text": [
      "Class\n",
      "0    458\n",
      "1    241\n",
      "dtype: int64\n"
     ]
    }
   ],
   "source": [
    "print(df.groupby('Class').size())"
   ]
  },
  {
   "cell_type": "code",
   "execution_count": 13,
   "metadata": {},
   "outputs": [],
   "source": [
    "cor=df.corr()\n"
   ]
  },
  {
   "cell_type": "code",
   "execution_count": 14,
   "metadata": {},
   "outputs": [
    {
     "data": {
      "text/plain": [
       "<matplotlib.axes._subplots.AxesSubplot at 0x2b54ac15470>"
      ]
     },
     "execution_count": 14,
     "metadata": {},
     "output_type": "execute_result"
    },
    {
     "data": {
      "image/png": "[encoded data removed]",
      "text/plain": [
       "<Figure size 720x504 with 2 Axes>"
      ]
     },
     "metadata": {
      "needs_background": "light"
     },
     "output_type": "display_data"
    }
   ],
   "source": [
    "plt.figure(figsize = (10,7))\n",
    "sns.heatmap(cor, annot=True)"
   ]
  },
  {
   "cell_type": "code",
   "execution_count": 44,
   "metadata": {},
   "outputs": [
    {
     "data": {
      "text/plain": [
       "<module 'matplotlib.pyplot' from 'C:\\\\Users\\\\LENOVO\\\\Anaconda3\\\\lib\\\\site-packages\\\\matplotlib\\\\pyplot.py'>"
      ]
     },
     "execution_count": 44,
     "metadata": {},
     "output_type": "execute_result"
    },
    {
     "data": {
      "image/png": "[encoded data removed]",
      "text/plain": [
       "<Figure size 1620x1620 with 90 Axes>"
      ]
     },
     "metadata": {
      "needs_background": "light"
     },
     "output_type": "display_data"
    }
   ],
   "source": [
    "sns.pairplot(df,dropna=True)\n",
    "plt"
   ]
  },
  {
   "cell_type": "code",
   "execution_count": 15,
   "metadata": {},
   "outputs": [],
   "source": [
    "X = df.drop(columns=['Class'],axis=1).values\n",
    "y = df['Class']"
   ]
  },
  {
   "cell_type": "code",
   "execution_count": 16,
   "metadata": {},
   "outputs": [],
   "source": [
    "from sklearn.model_selection import train_test_split\n",
    "X_train,X_test,y_train,y_test = train_test_split(X,y,test_size=0.2,random_state=42)"
   ]
  },
  {
   "cell_type": "code",
   "execution_count": 17,
   "metadata": {},
   "outputs": [],
   "source": [
    "x = pd.DataFrame(X)"
   ]
  },
  {
   "cell_type": "code",
   "execution_count": 18,
   "metadata": {},
   "outputs": [],
   "source": [
    "from sklearn import metrics"
   ]
  },
  {
   "cell_type": "code",
   "execution_count": 19,
   "metadata": {},
   "outputs": [],
   "source": [
    "from sklearn.preprocessing import StandardScaler\n",
    "scaler = StandardScaler()"
   ]
  },
  {
   "cell_type": "code",
   "execution_count": 20,
   "metadata": {},
   "outputs": [
    {
     "name": "stderr",
     "output_type": "stream",
     "text": [
      "C:\\Users\\LENOVO\\Anaconda3\\lib\\site-packages\\sklearn\\utils\\validation.py:595: DataConversionWarning: Data with input dtype int64 was converted to float64 by StandardScaler.\n",
      "  warnings.warn(msg, DataConversionWarning)\n",
      "C:\\Users\\LENOVO\\Anaconda3\\lib\\site-packages\\sklearn\\utils\\validation.py:595: DataConversionWarning: Data with input dtype int64 was converted to float64 by StandardScaler.\n",
      "  warnings.warn(msg, DataConversionWarning)\n",
      "C:\\Users\\LENOVO\\Anaconda3\\lib\\site-packages\\sklearn\\utils\\validation.py:595: DataConversionWarning: Data with input dtype int64 was converted to float64 by StandardScaler.\n",
      "  warnings.warn(msg, DataConversionWarning)\n"
     ]
    }
   ],
   "source": [
    "from sklearn.model_selection import train_test_split\n",
    "X_train,X_test,y_train,y_test = train_test_split(X,y,test_size=0.2,random_state=42)\n",
    "X_train = scaler.fit_transform(X_train)\n",
    "X_test = scaler.transform(X_test)"
   ]
  },
  {
   "cell_type": "code",
   "execution_count": 52,
   "metadata": {},
   "outputs": [],
   "source": [
    "#X_test = scaler.transform(X_test)"
   ]
  },
  {
   "cell_type": "code",
   "execution_count": 63,
   "metadata": {},
   "outputs": [
    {
     "data": {
      "text/plain": [
       "0.9571428571428572"
      ]
     },
     "execution_count": 63,
     "metadata": {},
     "output_type": "execute_result"
    }
   ],
   "source": [
    "clf = DecisionTreeClassifier(max_depth=3)\n",
    "clf.fit(X_train,y_train)\n",
    "y_pred = clf.predict(X_test)\n",
    "clf.score(X_test,y_test)"
   ]
  },
  {
   "cell_type": "code",
   "execution_count": 64,
   "metadata": {},
   "outputs": [
    {
     "data": {
      "text/plain": [
       "Index(['Clump_Thickness', 'Uniformity_of_Cell_Size',\n",
       "       'Uniformity_of_Cell_Shape', 'Marginal_Adhesion',\n",
       "       'Single_Epithelial_Cell_Size', 'Bland_Chromatin', 'Normal_Nucleoli',\n",
       "       'Mitoses'],\n",
       "      dtype='object')"
      ]
     },
     "execution_count": 64,
     "metadata": {},
     "output_type": "execute_result"
    }
   ],
   "source": [
    "col=df.drop(columns='Class')\n",
    "col.columns"
   ]
  },
  {
   "cell_type": "code",
   "execution_count": null,
   "metadata": {},
   "outputs": [],
   "source": []
  },
  {
   "cell_type": "code",
   "execution_count": null,
   "metadata": {},
   "outputs": [],
   "source": [
    "import pydotplus\n",
    "import os     \n",
    "from ipywidgets import Image\n",
    "os.environ[\"PATH\"] += os.pathsep + 'C:/Program Files (x86)/Graphviz2.38/bin/'\n",
    "dot_data = StringIO()\n",
    "export_graphviz(clf, feature_names = col.columns, out_file=dot_data,\n",
    "                filled=True) \n",
    "graph = pydotplus.graph_from_dot_data(dot_data.getvalue())\n",
    "Image(value=graph.create_png())\n",
    "graph.write_png(\"mushrooms.png\")\n"
   ]
  },
  {
   "cell_type": "code",
   "execution_count": null,
   "metadata": {},
   "outputs": [],
   "source": []
  },
  {
   "cell_type": "code",
   "execution_count": null,
   "metadata": {},
   "outputs": [],
   "source": []
  },
  {
   "cell_type": "code",
   "execution_count": 65,
   "metadata": {},
   "outputs": [
    {
     "name": "stdout",
     "output_type": "stream",
     "text": [
      "Точность: 0.9571428571428572\n"
     ]
    }
   ],
   "source": [
    "precision = metrics.precision_score(y_test,y_pred,average='weighted')\n",
    "print('Точность:',precision)"
   ]
  },
  {
   "cell_type": "code",
   "execution_count": 66,
   "metadata": {},
   "outputs": [
    {
     "name": "stdout",
     "output_type": "stream",
     "text": [
      "Полнота: 0.9333333333333333\n"
     ]
    }
   ],
   "source": [
    "recall = metrics.recall_score(y_test,y_pred)\n",
    "print('Полнота:',recall)"
   ]
  },
  {
   "cell_type": "code",
   "execution_count": 23,
   "metadata": {},
   "outputs": [],
   "source": [
    "from sklearn.metrics import confusion_matrix\n",
    "#confusion_matrix=confusion_matrix(y_test,y_pred)"
   ]
  },
  {
   "cell_type": "code",
   "execution_count": 24,
   "metadata": {},
   "outputs": [
    {
     "ename": "TypeError",
     "evalue": "ufunc 'isnan' not supported for the input types, and the inputs could not be safely coerced to any supported types according to the casting rule ''safe''",
     "output_type": "error",
     "traceback": [
      "\u001b[1;31m---------------------------------------------------------------------------\u001b[0m",
      "\u001b[1;31mTypeError\u001b[0m                                 Traceback (most recent call last)",
      "\u001b[1;32m<ipython-input-24-c97539ed8352>\u001b[0m in \u001b[0;36m<module>\u001b[1;34m\u001b[0m\n\u001b[0;32m      3\u001b[0m                   columns = [i for i in \"10\"])\n\u001b[0;32m      4\u001b[0m \u001b[0mplt\u001b[0m\u001b[1;33m.\u001b[0m\u001b[0mfigure\u001b[0m\u001b[1;33m(\u001b[0m\u001b[0mfigsize\u001b[0m \u001b[1;33m=\u001b[0m \u001b[1;33m(\u001b[0m\u001b[1;36m8\u001b[0m\u001b[1;33m,\u001b[0m\u001b[1;36m6\u001b[0m\u001b[1;33m)\u001b[0m\u001b[1;33m)\u001b[0m\u001b[1;33m\u001b[0m\u001b[1;33m\u001b[0m\u001b[0m\n\u001b[1;32m----> 5\u001b[1;33m \u001b[0msns\u001b[0m\u001b[1;33m.\u001b[0m\u001b[0mheatmap\u001b[0m\u001b[1;33m(\u001b[0m\u001b[0mdf_cm\u001b[0m\u001b[1;33m,\u001b[0m \u001b[0mannot\u001b[0m\u001b[1;33m=\u001b[0m\u001b[1;32mTrue\u001b[0m\u001b[1;33m,\u001b[0m\u001b[0mannot_kws\u001b[0m\u001b[1;33m=\u001b[0m\u001b[1;33m{\u001b[0m\u001b[1;34m\"size\"\u001b[0m\u001b[1;33m:\u001b[0m \u001b[1;36m20\u001b[0m\u001b[1;33m}\u001b[0m\u001b[1;33m)\u001b[0m\u001b[1;33m\u001b[0m\u001b[1;33m\u001b[0m\u001b[0m\n\u001b[0m",
      "\u001b[1;32m~\\Anaconda3\\lib\\site-packages\\seaborn\\matrix.py\u001b[0m in \u001b[0;36mheatmap\u001b[1;34m(data, vmin, vmax, cmap, center, robust, annot, fmt, annot_kws, linewidths, linecolor, cbar, cbar_kws, cbar_ax, square, xticklabels, yticklabels, mask, ax, **kwargs)\u001b[0m\n\u001b[0;32m    515\u001b[0m     plotter = _HeatMapper(data, vmin, vmax, cmap, center, robust, annot, fmt,\n\u001b[0;32m    516\u001b[0m                           \u001b[0mannot_kws\u001b[0m\u001b[1;33m,\u001b[0m \u001b[0mcbar\u001b[0m\u001b[1;33m,\u001b[0m \u001b[0mcbar_kws\u001b[0m\u001b[1;33m,\u001b[0m \u001b[0mxticklabels\u001b[0m\u001b[1;33m,\u001b[0m\u001b[1;33m\u001b[0m\u001b[1;33m\u001b[0m\u001b[0m\n\u001b[1;32m--> 517\u001b[1;33m                           yticklabels, mask)\n\u001b[0m\u001b[0;32m    518\u001b[0m \u001b[1;33m\u001b[0m\u001b[0m\n\u001b[0;32m    519\u001b[0m     \u001b[1;31m# Add the pcolormesh kwargs here\u001b[0m\u001b[1;33m\u001b[0m\u001b[1;33m\u001b[0m\u001b[1;33m\u001b[0m\u001b[0m\n",
      "\u001b[1;32m~\\Anaconda3\\lib\\site-packages\\seaborn\\matrix.py\u001b[0m in \u001b[0;36m__init__\u001b[1;34m(self, data, vmin, vmax, cmap, center, robust, annot, fmt, annot_kws, cbar, cbar_kws, xticklabels, yticklabels, mask)\u001b[0m\n\u001b[0;32m    165\u001b[0m         \u001b[1;31m# Determine good default values for the colormapping\u001b[0m\u001b[1;33m\u001b[0m\u001b[1;33m\u001b[0m\u001b[1;33m\u001b[0m\u001b[0m\n\u001b[0;32m    166\u001b[0m         self._determine_cmap_params(plot_data, vmin, vmax,\n\u001b[1;32m--> 167\u001b[1;33m                                     cmap, center, robust)\n\u001b[0m\u001b[0;32m    168\u001b[0m \u001b[1;33m\u001b[0m\u001b[0m\n\u001b[0;32m    169\u001b[0m         \u001b[1;31m# Sort out the annotations\u001b[0m\u001b[1;33m\u001b[0m\u001b[1;33m\u001b[0m\u001b[1;33m\u001b[0m\u001b[0m\n",
      "\u001b[1;32m~\\Anaconda3\\lib\\site-packages\\seaborn\\matrix.py\u001b[0m in \u001b[0;36m_determine_cmap_params\u001b[1;34m(self, plot_data, vmin, vmax, cmap, center, robust)\u001b[0m\n\u001b[0;32m    202\u001b[0m                                cmap, center, robust):\n\u001b[0;32m    203\u001b[0m         \u001b[1;34m\"\"\"Use some heuristics to set good defaults for colorbar and range.\"\"\"\u001b[0m\u001b[1;33m\u001b[0m\u001b[1;33m\u001b[0m\u001b[0m\n\u001b[1;32m--> 204\u001b[1;33m         \u001b[0mcalc_data\u001b[0m \u001b[1;33m=\u001b[0m \u001b[0mplot_data\u001b[0m\u001b[1;33m.\u001b[0m\u001b[0mdata\u001b[0m\u001b[1;33m[\u001b[0m\u001b[1;33m~\u001b[0m\u001b[0mnp\u001b[0m\u001b[1;33m.\u001b[0m\u001b[0misnan\u001b[0m\u001b[1;33m(\u001b[0m\u001b[0mplot_data\u001b[0m\u001b[1;33m.\u001b[0m\u001b[0mdata\u001b[0m\u001b[1;33m)\u001b[0m\u001b[1;33m]\u001b[0m\u001b[1;33m\u001b[0m\u001b[1;33m\u001b[0m\u001b[0m\n\u001b[0m\u001b[0;32m    205\u001b[0m         \u001b[1;32mif\u001b[0m \u001b[0mvmin\u001b[0m \u001b[1;32mis\u001b[0m \u001b[1;32mNone\u001b[0m\u001b[1;33m:\u001b[0m\u001b[1;33m\u001b[0m\u001b[1;33m\u001b[0m\u001b[0m\n\u001b[0;32m    206\u001b[0m             \u001b[0mvmin\u001b[0m \u001b[1;33m=\u001b[0m \u001b[0mnp\u001b[0m\u001b[1;33m.\u001b[0m\u001b[0mpercentile\u001b[0m\u001b[1;33m(\u001b[0m\u001b[0mcalc_data\u001b[0m\u001b[1;33m,\u001b[0m \u001b[1;36m2\u001b[0m\u001b[1;33m)\u001b[0m \u001b[1;32mif\u001b[0m \u001b[0mrobust\u001b[0m \u001b[1;32melse\u001b[0m \u001b[0mcalc_data\u001b[0m\u001b[1;33m.\u001b[0m\u001b[0mmin\u001b[0m\u001b[1;33m(\u001b[0m\u001b[1;33m)\u001b[0m\u001b[1;33m\u001b[0m\u001b[1;33m\u001b[0m\u001b[0m\n",
      "\u001b[1;31mTypeError\u001b[0m: ufunc 'isnan' not supported for the input types, and the inputs could not be safely coerced to any supported types according to the casting rule ''safe''"
     ]
    },
    {
     "data": {
      "text/plain": [
       "<Figure size 576x432 with 0 Axes>"
      ]
     },
     "metadata": {},
     "output_type": "display_data"
    }
   ],
   "source": [
    "# Матрица ошибок\n",
    "df_cm = pd.DataFrame(confusion_matrix, index = [i for i in \"10\"],\n",
    "                  columns = [i for i in \"10\"])\n",
    "plt.figure(figsize = (8,6))\n",
    "sns.heatmap(df_cm, annot=True,annot_kws={\"size\": 20})"
   ]
  },
  {
   "cell_type": "code",
   "execution_count": 25,
   "metadata": {},
   "outputs": [
    {
     "ename": "NameError",
     "evalue": "name 'y_pred' is not defined",
     "output_type": "error",
     "traceback": [
      "\u001b[1;31m---------------------------------------------------------------------------\u001b[0m",
      "\u001b[1;31mNameError\u001b[0m                                 Traceback (most recent call last)",
      "\u001b[1;32m<ipython-input-25-f6102958a0b3>\u001b[0m in \u001b[0;36m<module>\u001b[1;34m\u001b[0m\n\u001b[0;32m      1\u001b[0m \u001b[1;32mfrom\u001b[0m \u001b[0msklearn\u001b[0m\u001b[1;33m.\u001b[0m\u001b[0mmetrics\u001b[0m \u001b[1;32mimport\u001b[0m \u001b[0mroc_curve\u001b[0m\u001b[1;33m,\u001b[0m \u001b[0mauc\u001b[0m\u001b[1;33m\u001b[0m\u001b[1;33m\u001b[0m\u001b[0m\n\u001b[1;32m----> 2\u001b[1;33m \u001b[0mfalse_positive_rate\u001b[0m\u001b[1;33m,\u001b[0m \u001b[0mtrue_positive_rate\u001b[0m\u001b[1;33m,\u001b[0m \u001b[0mthresholds\u001b[0m \u001b[1;33m=\u001b[0m \u001b[0mroc_curve\u001b[0m\u001b[1;33m(\u001b[0m\u001b[0my_test\u001b[0m\u001b[1;33m,\u001b[0m \u001b[0my_pred\u001b[0m\u001b[1;33m)\u001b[0m\u001b[1;33m\u001b[0m\u001b[1;33m\u001b[0m\u001b[0m\n\u001b[0m\u001b[0;32m      3\u001b[0m \u001b[0mroc_auc\u001b[0m \u001b[1;33m=\u001b[0m \u001b[0mauc\u001b[0m\u001b[1;33m(\u001b[0m\u001b[0mfalse_positive_rate\u001b[0m\u001b[1;33m,\u001b[0m \u001b[0mtrue_positive_rate\u001b[0m\u001b[1;33m)\u001b[0m\u001b[1;33m\u001b[0m\u001b[1;33m\u001b[0m\u001b[0m\n",
      "\u001b[1;31mNameError\u001b[0m: name 'y_pred' is not defined"
     ]
    }
   ],
   "source": [
    "from sklearn.metrics import roc_curve, auc\n",
    "false_positive_rate, true_positive_rate, thresholds = roc_curve(y_test, y_pred)\n",
    "roc_auc = auc(false_positive_rate, true_positive_rate)"
   ]
  },
  {
   "cell_type": "code",
   "execution_count": 30,
   "metadata": {},
   "outputs": [
    {
     "data": {
      "text/plain": [
       "Text(0.5, 0, 'False Positive Rate')"
      ]
     },
     "execution_count": 30,
     "metadata": {},
     "output_type": "execute_result"
    },
    {
     "data": {
      "image/png": "[encoded data removed]",
      "text/plain": [
       "<Figure size 720x720 with 1 Axes>"
      ]
     },
     "metadata": {
      "needs_background": "light"
     },
     "output_type": "display_data"
    }
   ],
   "source": [
    "# Строим ееееееее рок кривую \n",
    "\n",
    "plt.figure(figsize=(10,10))\n",
    "plt.title('Receiver Operating Characteristic')\n",
    "plt.plot(false_positive_rate,true_positive_rate, color='red',label = 'AUC = %0.2f' % roc_auc)\n",
    "plt.legend(loc = 'lower right')\n",
    "plt.plot([0, 1], [0, 1],linestyle='--')\n",
    "plt.axis('tight')\n",
    "plt.ylabel('True Positive Rate')\n",
    "plt.xlabel('False Positive Rate')"
   ]
  },
  {
   "cell_type": "code",
   "execution_count": null,
   "metadata": {},
   "outputs": [],
   "source": []
  },
  {
   "cell_type": "code",
   "execution_count": null,
   "metadata": {},
   "outputs": [],
   "source": [
    "# ПОКА НЕ РАБОТЕТ\n",
    "from sklearn.tree import export_graphviz\n",
    "from io import StringIO\n",
    "import graphviz\n",
    "import os     \n",
    "os.environ[\"PATH\"] += os.pathsep + 'C:/Program Files (x86)/Graphviz2.38/bin/'\n",
    "dot_data = StringIO()\n",
    "export_graphviz(clf, feature_names = x.columns, out_file=dot_data,\n",
    "                filled=True) \n",
    "graph = graphviz.Source(dot_data)  \n",
    "graph "
   ]
  },
  {
   "cell_type": "code",
   "execution_count": null,
   "metadata": {},
   "outputs": [],
   "source": []
  },
  {
   "cell_type": "code",
   "execution_count": 27,
   "metadata": {},
   "outputs": [],
   "source": [
    "#Посотроим базовую модель машины опорных векторов\n",
    "from sklearn.model_selection import GridSearchCV, StratifiedKFold\n",
    "from sklearn.svm import SVC"
   ]
  },
  {
   "cell_type": "code",
   "execution_count": 49,
   "metadata": {},
   "outputs": [
    {
     "data": {
      "text/plain": [
       "SVC(C=1.0, cache_size=200, class_weight='balanced', coef0=0.0,\n",
       "  decision_function_shape='ovr', degree=3, gamma='auto_deprecated',\n",
       "  kernel='rbf', max_iter=-1, probability=False, random_state=42,\n",
       "  shrinking=True, tol=0.001, verbose=False)"
      ]
     },
     "execution_count": 49,
     "metadata": {},
     "output_type": "execute_result"
    }
   ],
   "source": [
    "svc = SVC(class_weight='balanced',random_state=42)\n",
    "svc"
   ]
  },
  {
   "cell_type": "code",
   "execution_count": 50,
   "metadata": {},
   "outputs": [
    {
     "data": {
      "text/plain": [
       "0.9571428571428572"
      ]
     },
     "execution_count": 50,
     "metadata": {},
     "output_type": "execute_result"
    }
   ],
   "source": [
    "svc.fit(X_train,y_train)\n",
    "svc.predict(X_test)\n",
    "svc.score(X_test,y_test)"
   ]
  },
  {
   "cell_type": "code",
   "execution_count": 51,
   "metadata": {},
   "outputs": [],
   "source": [
    "#Попробуем улучшить показатели засчет оптимизации гиперпараметров\n",
    "\n",
    "parameters = {\n",
    "    'C': [10.,1.,0.1,0.01,0.001],\n",
    "    'kernel': ['linear','poly','rbf','sigmoid'],\n",
    "    'gamma': ['scale','auto_deprecated']\n",
    "}"
   ]
  },
  {
   "cell_type": "code",
   "execution_count": 52,
   "metadata": {},
   "outputs": [],
   "source": [
    "skf = StratifiedKFold(n_splits=10,shuffle=True,random_state=42)"
   ]
  },
  {
   "cell_type": "code",
   "execution_count": 53,
   "metadata": {},
   "outputs": [
    {
     "name": "stdout",
     "output_type": "stream",
     "text": [
      "Fitting 10 folds for each of 40 candidates, totalling 400 fits\n"
     ]
    },
    {
     "name": "stderr",
     "output_type": "stream",
     "text": [
      "[Parallel(n_jobs=-1)]: Using backend LokyBackend with 4 concurrent workers.\n",
      "[Parallel(n_jobs=-1)]: Done   5 tasks      | elapsed:  1.2min\n",
      "[Parallel(n_jobs=-1)]: Done  10 tasks      | elapsed:  1.2min\n",
      "[Parallel(n_jobs=-1)]: Done  17 tasks      | elapsed:  1.2min\n",
      "[Parallel(n_jobs=-1)]: Done  24 tasks      | elapsed:  1.2min\n",
      "[Parallel(n_jobs=-1)]: Done  33 tasks      | elapsed:  1.2min\n",
      "[Parallel(n_jobs=-1)]: Batch computation too fast (0.1954s.) Setting batch_size=2.\n",
      "[Parallel(n_jobs=-1)]: Done  42 tasks      | elapsed:  1.2min\n",
      "[Parallel(n_jobs=-1)]: Batch computation too fast (0.1200s.) Setting batch_size=6.\n",
      "[Parallel(n_jobs=-1)]: Done  59 tasks      | elapsed:  1.2min\n",
      "[Parallel(n_jobs=-1)]: Done 121 tasks      | elapsed:  1.2min\n",
      "[Parallel(n_jobs=-1)]: Done 199 tasks      | elapsed:  1.2min\n",
      "[Parallel(n_jobs=-1)]: Done 277 tasks      | elapsed:  1.3min\n",
      "[Parallel(n_jobs=-1)]: Done 400 out of 400 | elapsed:  1.3min finished\n"
     ]
    }
   ],
   "source": [
    "gridSearch = GridSearchCV(svc,parameters,n_jobs=-1,scoring='roc_auc',cv=skf,verbose=10)\n",
    "gridSearch = gridSearch.fit(X_train,y_train)"
   ]
  },
  {
   "cell_type": "code",
   "execution_count": 54,
   "metadata": {},
   "outputs": [
    {
     "data": {
      "text/plain": [
       "SVC(C=0.1, cache_size=200, class_weight='balanced', coef0=0.0,\n",
       "  decision_function_shape='ovr', degree=3, gamma='scale', kernel='poly',\n",
       "  max_iter=-1, probability=False, random_state=42, shrinking=True,\n",
       "  tol=0.001, verbose=False)"
      ]
     },
     "execution_count": 54,
     "metadata": {},
     "output_type": "execute_result"
    }
   ],
   "source": [
    "gridSearch.best_estimator_"
   ]
  },
  {
   "cell_type": "code",
   "execution_count": 55,
   "metadata": {},
   "outputs": [
    {
     "data": {
      "text/plain": [
       "0.9907624082042686"
      ]
     },
     "execution_count": 55,
     "metadata": {},
     "output_type": "execute_result"
    }
   ],
   "source": [
    "best_model_csv = gridSearch.best_score_\n",
    "best_model_csv\n"
   ]
  },
  {
   "cell_type": "code",
   "execution_count": 56,
   "metadata": {},
   "outputs": [
    {
     "data": {
      "text/plain": [
       "SVC(C=0.1, cache_size=200, class_weight='balanced', coef0=0.0,\n",
       "  decision_function_shape='ovr', degree=3, gamma='scale', kernel='sigmoid',\n",
       "  max_iter=-1, probability=False, random_state=42, shrinking=True,\n",
       "  tol=0.001, verbose=False)"
      ]
     },
     "execution_count": 56,
     "metadata": {},
     "output_type": "execute_result"
    }
   ],
   "source": [
    "svc_tuned = SVC(C=0.1, cache_size=200, class_weight='balanced', coef0=0.0,\n",
    "  decision_function_shape='ovr', degree=3, gamma='scale', kernel='sigmoid',\n",
    "  max_iter=-1, probability=False, random_state=42, shrinking=True,\n",
    "  tol=0.001, verbose=False)\n",
    "svc_tuned.fit(X_train,y_train)\n"
   ]
  },
  {
   "cell_type": "code",
   "execution_count": 57,
   "metadata": {},
   "outputs": [
    {
     "data": {
      "text/plain": [
       "0.9642857142857143"
      ]
     },
     "execution_count": 57,
     "metadata": {},
     "output_type": "execute_result"
    }
   ],
   "source": [
    "y_pred = svc_tuned.predict(X_test)\n",
    "svc_tuned.score(X_test,y_test)"
   ]
  },
  {
   "cell_type": "code",
   "execution_count": null,
   "metadata": {},
   "outputs": [],
   "source": []
  },
  {
   "cell_type": "code",
   "execution_count": 60,
   "metadata": {},
   "outputs": [
    {
     "name": "stdout",
     "output_type": "stream",
     "text": [
      "Точность: 0.9645995771111405\n"
     ]
    }
   ],
   "source": [
    "precision = metrics.precision_score(y_test,y_pred,average='weighted')\n",
    "print('Точность:',precision)"
   ]
  },
  {
   "cell_type": "code",
   "execution_count": 61,
   "metadata": {},
   "outputs": [
    {
     "name": "stdout",
     "output_type": "stream",
     "text": [
      "Полнота: 0.9555555555555556\n"
     ]
    }
   ],
   "source": [
    "recall = metrics.recall_score(y_test,y_pred)\n",
    "print('Полнота:',recall)"
   ]
  },
  {
   "cell_type": "code",
   "execution_count": 196,
   "metadata": {},
   "outputs": [],
   "source": [
    "#confusion_matrix(y_test,y_pred)"
   ]
  },
  {
   "cell_type": "code",
   "execution_count": 64,
   "metadata": {},
   "outputs": [],
   "source": [
    "from sklearn.ensemble import BaggingClassifier\n",
    "from sklearn.model_selection import RandomizedSearchCV\n",
    "parameters = {'max_features': [2, 3, 4], 'max_samples': [0.5, 0.7, 0.9], \n",
    "              \"base_estimator__C\": [0.0001, 0.001, 0.01, 1, 10, 100]}"
   ]
  },
  {
   "cell_type": "code",
   "execution_count": 67,
   "metadata": {},
   "outputs": [
    {
     "name": "stdout",
     "output_type": "stream",
     "text": [
      "Fitting 5 folds for each of 20 candidates, totalling 100 fits\n"
     ]
    },
    {
     "name": "stderr",
     "output_type": "stream",
     "text": [
      "[Parallel(n_jobs=-1)]: Using backend LokyBackend with 4 concurrent workers.\n",
      "[Parallel(n_jobs=-1)]: Done   5 tasks      | elapsed:    0.4s\n",
      "[Parallel(n_jobs=-1)]: Done  10 tasks      | elapsed:    1.0s\n",
      "[Parallel(n_jobs=-1)]: Done  17 tasks      | elapsed:    1.4s\n",
      "[Parallel(n_jobs=-1)]: Done  24 tasks      | elapsed:    1.7s\n",
      "[Parallel(n_jobs=-1)]: Done  33 tasks      | elapsed:    2.0s\n",
      "[Parallel(n_jobs=-1)]: Done  42 tasks      | elapsed:    2.3s\n",
      "[Parallel(n_jobs=-1)]: Done  53 tasks      | elapsed:    2.8s\n",
      "[Parallel(n_jobs=-1)]: Done  64 tasks      | elapsed:    3.3s\n",
      "[Parallel(n_jobs=-1)]: Done  77 tasks      | elapsed:    3.7s\n",
      "[Parallel(n_jobs=-1)]: Done  90 tasks      | elapsed:    4.1s\n"
     ]
    },
    {
     "name": "stdout",
     "output_type": "stream",
     "text": [
      "Wall time: 4.67 s\n"
     ]
    },
    {
     "name": "stderr",
     "output_type": "stream",
     "text": [
      "[Parallel(n_jobs=-1)]: Done 100 out of 100 | elapsed:    4.5s finished\n"
     ]
    }
   ],
   "source": [
    "%%time\n",
    "bag = BaggingClassifier(SVC(C=0.1, cache_size=200, class_weight='balanced', coef0=0.0,\n",
    "  decision_function_shape='ovr', degree=3, gamma='scale', kernel='sigmoid',\n",
    "  max_iter=-1, probability=False, random_state=42, shrinking=True,\n",
    "  tol=0.001, verbose=False))\n",
    "randgs = RandomizedSearchCV(bag, parameters,n_jobs=-1,scoring='roc_auc',cv=skf,n_iter=20,random_state=1,verbose=10)\n",
    "randgs = randgs.fit(X_train,y_train)"
   ]
  },
  {
   "cell_type": "code",
   "execution_count": 68,
   "metadata": {},
   "outputs": [
    {
     "data": {
      "text/plain": [
       "0.9906624659461183"
      ]
     },
     "execution_count": 68,
     "metadata": {},
     "output_type": "execute_result"
    }
   ],
   "source": [
    "randgs.best_score_"
   ]
  },
  {
   "cell_type": "code",
   "execution_count": 69,
   "metadata": {},
   "outputs": [
    {
     "data": {
      "text/plain": [
       "BaggingClassifier(base_estimator=SVC(C=1, cache_size=200, class_weight='balanced', coef0=0.0,\n",
       "  decision_function_shape='ovr', degree=3, gamma='scale', kernel='sigmoid',\n",
       "  max_iter=-1, probability=False, random_state=42, shrinking=True,\n",
       "  tol=0.001, verbose=False),\n",
       "         bootstrap=True, bootstrap_features=False, max_features=3,\n",
       "         max_samples=0.7, n_estimators=10, n_jobs=None, oob_score=False,\n",
       "         random_state=None, verbose=0, warm_start=False)"
      ]
     },
     "execution_count": 69,
     "metadata": {},
     "output_type": "execute_result"
    }
   ],
   "source": [
    "randgs.best_estimator_"
   ]
  },
  {
   "cell_type": "code",
   "execution_count": 215,
   "metadata": {},
   "outputs": [],
   "source": [
    "bc = BaggingClassifier(base_estimator=SVC(C=1, cache_size=200, class_weight='balanced', coef0=0.0,\n",
    "  decision_function_shape='ovr', degree=3, gamma='scale', kernel='sigmoid',\n",
    "  max_iter=-1, probability=False, random_state=42, shrinking=True,\n",
    "  tol=0.001, verbose=False),\n",
    "         bootstrap=True, bootstrap_features=False, max_features=3,\n",
    "         max_samples=0.7, n_estimators=100, n_jobs=None, oob_score=False,\n",
    "         random_state=None, verbose=0, warm_start=False)"
   ]
  },
  {
   "cell_type": "code",
   "execution_count": 227,
   "metadata": {},
   "outputs": [
    {
     "name": "stderr",
     "output_type": "stream",
     "text": [
      "C:\\Users\\LENOVO\\Anaconda3\\lib\\site-packages\\sklearn\\utils\\validation.py:595: DataConversionWarning: Data with input dtype int64 was converted to float64 by StandardScaler.\n",
      "  warnings.warn(msg, DataConversionWarning)\n",
      "C:\\Users\\LENOVO\\Anaconda3\\lib\\site-packages\\sklearn\\utils\\validation.py:595: DataConversionWarning: Data with input dtype int64 was converted to float64 by StandardScaler.\n",
      "  warnings.warn(msg, DataConversionWarning)\n",
      "C:\\Users\\LENOVO\\Anaconda3\\lib\\site-packages\\sklearn\\utils\\validation.py:595: DataConversionWarning: Data with input dtype int64 was converted to float64 by StandardScaler.\n",
      "  warnings.warn(msg, DataConversionWarning)\n"
     ]
    }
   ],
   "source": [
    "X_train,X_test,y_train,y_test = train_test_split(X,y,test_size=0.2,stratify=y,random_state=42)\n",
    "X_train = scaler.fit_transform(X_train)\n",
    "X_test = scaler.transform(X_test)"
   ]
  },
  {
   "cell_type": "code",
   "execution_count": 217,
   "metadata": {},
   "outputs": [
    {
     "data": {
      "text/plain": [
       "BaggingClassifier(base_estimator=SVC(C=1, cache_size=200, class_weight='balanced', coef0=0.0,\n",
       "  decision_function_shape='ovr', degree=3, gamma='scale', kernel='sigmoid',\n",
       "  max_iter=-1, probability=False, random_state=42, shrinking=True,\n",
       "  tol=0.001, verbose=False),\n",
       "         bootstrap=True, bootstrap_features=False, max_features=3,\n",
       "         max_samples=0.7, n_estimators=100, n_jobs=None, oob_score=False,\n",
       "         random_state=None, verbose=0, warm_start=False)"
      ]
     },
     "execution_count": 217,
     "metadata": {},
     "output_type": "execute_result"
    }
   ],
   "source": [
    "bc.fit(X_train,y_train)"
   ]
  },
  {
   "cell_type": "code",
   "execution_count": 218,
   "metadata": {},
   "outputs": [],
   "source": [
    "y_pred_bc = bc.predict(X_test)"
   ]
  },
  {
   "cell_type": "code",
   "execution_count": 219,
   "metadata": {},
   "outputs": [
    {
     "data": {
      "text/plain": [
       "array([1, 0, 0, 0, 1, 1, 0, 0, 0, 0, 1, 1, 1, 0, 1, 1, 1, 1, 0, 0, 0, 1,\n",
       "       1, 0, 1, 0, 0, 1, 0, 1, 1, 1, 1, 0, 0, 1, 1, 1, 0, 0, 1, 0, 0, 1,\n",
       "       0, 0, 0, 1, 0, 0, 0, 0, 1, 0, 1, 1, 1, 1, 0, 1, 0, 1, 0, 0, 0, 0,\n",
       "       0, 0, 0, 1, 0, 0, 0, 0, 0, 0, 0, 0, 1, 1, 0, 0, 1, 0, 0, 0, 1, 0,\n",
       "       0, 1, 0, 1, 0, 0, 1, 1, 0, 0, 0, 0, 0, 0, 1, 0, 0, 1, 1, 0, 1, 0,\n",
       "       0, 1, 0, 0, 0, 0, 0, 1, 0, 0, 1, 0, 1, 0, 0, 0, 0, 1, 0, 0, 0, 1,\n",
       "       0, 0, 0, 1, 0, 0, 0, 0], dtype=int64)"
      ]
     },
     "execution_count": 219,
     "metadata": {},
     "output_type": "execute_result"
    }
   ],
   "source": [
    "y_pred_bc"
   ]
  },
  {
   "cell_type": "code",
   "execution_count": 220,
   "metadata": {},
   "outputs": [
    {
     "data": {
      "text/plain": [
       "0.9642857142857143"
      ]
     },
     "execution_count": 220,
     "metadata": {},
     "output_type": "execute_result"
    }
   ],
   "source": [
    "bc.score(X_test,y_test)"
   ]
  },
  {
   "cell_type": "code",
   "execution_count": 221,
   "metadata": {},
   "outputs": [
    {
     "name": "stdout",
     "output_type": "stream",
     "text": [
      "Точность: 0.9657256160891324\n"
     ]
    }
   ],
   "source": [
    "\n",
    "\n",
    "precision = metrics.precision_score(y_test,y_pred_bc,average='weighted')\n",
    "print('Точность:',precision)"
   ]
  },
  {
   "cell_type": "code",
   "execution_count": 222,
   "metadata": {},
   "outputs": [
    {
     "name": "stdout",
     "output_type": "stream",
     "text": [
      "Полнота: 0.9791666666666666\n"
     ]
    }
   ],
   "source": [
    "recall = metrics.recall_score(y_test,y_pred_bc)\n",
    "print('Полнота:',recall)"
   ]
  },
  {
   "cell_type": "code",
   "execution_count": 223,
   "metadata": {},
   "outputs": [
    {
     "data": {
      "text/plain": [
       "array([[88,  4],\n",
       "       [ 1, 47]], dtype=int64)"
      ]
     },
     "execution_count": 223,
     "metadata": {},
     "output_type": "execute_result"
    }
   ],
   "source": [
    "from sklearn.metrics import confusion_matrix\n",
    "cm = confusion_matrix(y_test,y_pred_bc)\n",
    "cm\n"
   ]
  },
  {
   "cell_type": "code",
   "execution_count": 194,
   "metadata": {},
   "outputs": [
    {
     "data": {
      "text/plain": [
       "<matplotlib.axes._subplots.AxesSubplot at 0x252209a24e0>"
      ]
     },
     "execution_count": 194,
     "metadata": {},
     "output_type": "execute_result"
    },
    {
     "data": {
      "image/png": "[encoded data removed]",
      "text/plain": [
       "<Figure size 576x432 with 2 Axes>"
      ]
     },
     "metadata": {
      "needs_background": "light"
     },
     "output_type": "display_data"
    }
   ],
   "source": [
    "# Матрица ошибок\n",
    "df_cm = pd.DataFrame(cm, index = [i for i in \"10\"],\n",
    "                  columns = [i for i in \"10\"])\n",
    "plt.figure(figsize = (8,6))\n",
    "sns.heatmap(df_cm, annot=True,annot_kws={\"size\": 20})"
   ]
  },
  {
   "cell_type": "code",
   "execution_count": 103,
   "metadata": {},
   "outputs": [],
   "source": [
    "# Нам удалось добиться улучшения в три наблюдения,\n",
    "#которые ранее были классифицированы ошибочно как ложно отрицательные"
   ]
  },
  {
   "cell_type": "code",
   "execution_count": 224,
   "metadata": {},
   "outputs": [],
   "source": [
    "import xgboost"
   ]
  },
  {
   "cell_type": "code",
   "execution_count": 237,
   "metadata": {},
   "outputs": [
    {
     "data": {
      "text/plain": [
       "XGBClassifier(base_score=0.5, booster='gbtree', colsample_bylevel=1,\n",
       "       colsample_bytree=1, gamma=0, learning_rate=0.1, max_delta_step=0,\n",
       "       max_depth=3, min_child_weight=1, missing=None, n_estimators=100,\n",
       "       n_jobs=1, nthread=None, objective='binary:logistic', random_state=0,\n",
       "       reg_alpha=0, reg_lambda=1, scale_pos_weight=1, seed=None,\n",
       "       silent=True, subsample=1)"
      ]
     },
     "execution_count": 237,
     "metadata": {},
     "output_type": "execute_result"
    }
   ],
   "source": [
    "xgb = xgboost.XGBClassifier()\n",
    "xgb"
   ]
  },
  {
   "cell_type": "code",
   "execution_count": 228,
   "metadata": {},
   "outputs": [
    {
     "data": {
      "text/plain": [
       "0.9642857142857143"
      ]
     },
     "execution_count": 228,
     "metadata": {},
     "output_type": "execute_result"
    }
   ],
   "source": [
    "xgb.fit(X_train,y_train)\n",
    "xgb.predict(X_test)\n",
    "xgb.score(X_test,y_test)"
   ]
  },
  {
   "cell_type": "code",
   "execution_count": 232,
   "metadata": {},
   "outputs": [],
   "source": [
    "parameters = {\n",
    "    'learning_rate':[10.,1.,0.1,0.001],\n",
    "    'max_depth':[3,6,8],\n",
    "    'gamma': [ 0.0, 0.1, 0.2],\n",
    "    'colsample_bytree' : [ 0.3, 0.4, 0.5],\n",
    "    'booster': ['gbtree','gblinear']\n",
    "}\n"
   ]
  },
  {
   "cell_type": "code",
   "execution_count": 233,
   "metadata": {},
   "outputs": [
    {
     "name": "stdout",
     "output_type": "stream",
     "text": [
      "Fitting 5 folds for each of 216 candidates, totalling 1080 fits\n"
     ]
    },
    {
     "name": "stderr",
     "output_type": "stream",
     "text": [
      "[Parallel(n_jobs=-1)]: Using backend LokyBackend with 4 concurrent workers.\n",
      "[Parallel(n_jobs=-1)]: Done   5 tasks      | elapsed:    5.0s\n",
      "[Parallel(n_jobs=-1)]: Done  10 tasks      | elapsed:    5.2s\n",
      "[Parallel(n_jobs=-1)]: Done  17 tasks      | elapsed:    5.3s\n",
      "[Parallel(n_jobs=-1)]: Done  24 tasks      | elapsed:    5.6s\n",
      "[Parallel(n_jobs=-1)]: Done  33 tasks      | elapsed:    5.9s\n",
      "[Parallel(n_jobs=-1)]: Done  42 tasks      | elapsed:    6.2s\n",
      "[Parallel(n_jobs=-1)]: Done  53 tasks      | elapsed:    6.5s\n",
      "[Parallel(n_jobs=-1)]: Done  64 tasks      | elapsed:    6.7s\n",
      "[Parallel(n_jobs=-1)]: Batch computation too fast (0.1978s.) Setting batch_size=2.\n",
      "[Parallel(n_jobs=-1)]: Done  83 tasks      | elapsed:    7.2s\n",
      "[Parallel(n_jobs=-1)]: Done 109 tasks      | elapsed:    7.8s\n",
      "[Parallel(n_jobs=-1)]: Done 139 tasks      | elapsed:    8.5s\n",
      "[Parallel(n_jobs=-1)]: Done 169 tasks      | elapsed:    9.3s\n",
      "[Parallel(n_jobs=-1)]: Done 203 tasks      | elapsed:   10.0s\n",
      "[Parallel(n_jobs=-1)]: Done 237 tasks      | elapsed:   11.0s\n",
      "[Parallel(n_jobs=-1)]: Done 275 tasks      | elapsed:   11.8s\n",
      "[Parallel(n_jobs=-1)]: Done 313 tasks      | elapsed:   12.8s\n",
      "[Parallel(n_jobs=-1)]: Done 355 tasks      | elapsed:   13.8s\n",
      "[Parallel(n_jobs=-1)]: Done 397 tasks      | elapsed:   15.1s\n",
      "[Parallel(n_jobs=-1)]: Done 443 tasks      | elapsed:   16.3s\n",
      "[Parallel(n_jobs=-1)]: Done 489 tasks      | elapsed:   17.5s\n",
      "[Parallel(n_jobs=-1)]: Done 539 tasks      | elapsed:   19.0s\n",
      "[Parallel(n_jobs=-1)]: Done 589 tasks      | elapsed:   19.9s\n",
      "[Parallel(n_jobs=-1)]: Done 643 tasks      | elapsed:   21.2s\n",
      "[Parallel(n_jobs=-1)]: Done 697 tasks      | elapsed:   22.3s\n",
      "[Parallel(n_jobs=-1)]: Done 755 tasks      | elapsed:   23.6s\n",
      "[Parallel(n_jobs=-1)]: Done 813 tasks      | elapsed:   24.8s\n",
      "[Parallel(n_jobs=-1)]: Done 875 tasks      | elapsed:   26.1s\n",
      "[Parallel(n_jobs=-1)]: Done 937 tasks      | elapsed:   27.4s\n",
      "[Parallel(n_jobs=-1)]: Done 1003 tasks      | elapsed:   28.6s\n",
      "[Parallel(n_jobs=-1)]: Done 1073 out of 1080 | elapsed:   30.1s remaining:    0.1s\n",
      "[Parallel(n_jobs=-1)]: Done 1080 out of 1080 | elapsed:   30.2s finished\n",
      "C:\\Users\\LENOVO\\Anaconda3\\lib\\site-packages\\sklearn\\model_selection\\_search.py:841: DeprecationWarning: The default of the `iid` parameter will change from True to False in version 0.22 and will be removed in 0.24. This will change numeric results when test-set sizes are unequal.\n",
      "  DeprecationWarning)\n"
     ]
    }
   ],
   "source": [
    "xgbGrid = GridSearchCV(xgb,parameters,n_jobs=-1,scoring='roc_auc',cv=skf,verbose=10)\n",
    "xgbGrid = xgbGrid.fit(X_train,y_train)"
   ]
  },
  {
   "cell_type": "code",
   "execution_count": 234,
   "metadata": {},
   "outputs": [
    {
     "data": {
      "text/plain": [
       "0.9920797307042958"
      ]
     },
     "execution_count": 234,
     "metadata": {},
     "output_type": "execute_result"
    }
   ],
   "source": [
    "xgbGrid.best_score_"
   ]
  },
  {
   "cell_type": "code",
   "execution_count": 235,
   "metadata": {},
   "outputs": [
    {
     "data": {
      "text/plain": [
       "XGBClassifier(base_score=0.5, booster='gblinear', colsample_bylevel=1,\n",
       "       colsample_bytree=0.3, gamma=0.0, learning_rate=1.0,\n",
       "       max_delta_step=0, max_depth=3, min_child_weight=1, missing=None,\n",
       "       n_estimators=100, n_jobs=1, nthread=None,\n",
       "       objective='binary:logistic', random_state=0, reg_alpha=0,\n",
       "       reg_lambda=1, scale_pos_weight=1, seed=None, silent=True,\n",
       "       subsample=1)"
      ]
     },
     "execution_count": 235,
     "metadata": {},
     "output_type": "execute_result"
    }
   ],
   "source": [
    "xgbGrid.best_estimator_"
   ]
  },
  {
   "cell_type": "code",
   "execution_count": 341,
   "metadata": {},
   "outputs": [
    {
     "name": "stderr",
     "output_type": "stream",
     "text": [
      "C:\\Users\\LENOVO\\Anaconda3\\lib\\site-packages\\sklearn\\utils\\validation.py:595: DataConversionWarning: Data with input dtype int64 was converted to float64 by StandardScaler.\n",
      "  warnings.warn(msg, DataConversionWarning)\n",
      "C:\\Users\\LENOVO\\Anaconda3\\lib\\site-packages\\sklearn\\utils\\validation.py:595: DataConversionWarning: Data with input dtype int64 was converted to float64 by StandardScaler.\n",
      "  warnings.warn(msg, DataConversionWarning)\n",
      "C:\\Users\\LENOVO\\Anaconda3\\lib\\site-packages\\sklearn\\utils\\validation.py:595: DataConversionWarning: Data with input dtype int64 was converted to float64 by StandardScaler.\n",
      "  warnings.warn(msg, DataConversionWarning)\n"
     ]
    }
   ],
   "source": [
    "X_train,X_test,y_train,y_test = train_test_split(X,y,test_size=0.2,stratify=y)\n",
    "X_train = scaler.fit_transform(X_train)\n",
    "X_test = scaler.transform(X_test)"
   ]
  },
  {
   "cell_type": "code",
   "execution_count": 342,
   "metadata": {},
   "outputs": [],
   "source": [
    "xgb_tuned = xgboost.XGBClassifier(base_score=0.5, booster='gbtree', colsample_bylevel=1,\n",
    "       colsample_bytree=0.5, gamma=10.0, learning_rate=0.1,\n",
    "       max_delta_step=0, max_depth=5, min_child_weight=5, missing=None,\n",
    "       n_estimators=300, n_jobs=1, nthread=None,\n",
    "       objective='binary:logistic', random_state=0, reg_alpha=5,\n",
    "       reg_lambda=5, scale_pos_weight=1, seed=None, silent=True,\n",
    "       subsample=1)"
   ]
  },
  {
   "cell_type": "code",
   "execution_count": 343,
   "metadata": {},
   "outputs": [
    {
     "data": {
      "text/plain": [
       "0.9714285714285714"
      ]
     },
     "execution_count": 343,
     "metadata": {},
     "output_type": "execute_result"
    }
   ],
   "source": [
    "xgb_tuned.fit(X_train,y_train)\n",
    "y_pred_xgb = xgb_tuned.predict(X_test)\n",
    "xgb_tuned.score(X_test,y_test)"
   ]
  },
  {
   "cell_type": "code",
   "execution_count": 344,
   "metadata": {},
   "outputs": [
    {
     "name": "stdout",
     "output_type": "stream",
     "text": [
      "Полнота: 0.9791666666666666\n",
      "Точность: 0.9721269841269843\n"
     ]
    }
   ],
   "source": [
    "recall = metrics.recall_score(y_test,y_pred_xgb)\n",
    "print('Полнота:',recall)\n",
    "\n",
    "precision = metrics.precision_score(y_test,y_pred_xgb,average='weighted')\n",
    "print('Точность:',precision)"
   ]
  },
  {
   "cell_type": "code",
   "execution_count": 345,
   "metadata": {},
   "outputs": [
    {
     "data": {
      "text/plain": [
       "array([[89,  3],\n",
       "       [ 1, 47]], dtype=int64)"
      ]
     },
     "execution_count": 345,
     "metadata": {},
     "output_type": "execute_result"
    }
   ],
   "source": [
    "from sklearn.metrics import confusion_matrix\n",
    "cmg = confusion_matrix(y_test,y_pred_xgb)\n",
    "cmg\n"
   ]
  },
  {
   "cell_type": "code",
   "execution_count": 346,
   "metadata": {},
   "outputs": [
    {
     "data": {
      "text/plain": [
       "<matplotlib.axes._subplots.AxesSubplot at 0x2521df28da0>"
      ]
     },
     "execution_count": 346,
     "metadata": {},
     "output_type": "execute_result"
    },
    {
     "data": {
      "image/png": "[encoded data removed]",
      "text/plain": [
       "<Figure size 576x432 with 2 Axes>"
      ]
     },
     "metadata": {
      "needs_background": "light"
     },
     "output_type": "display_data"
    }
   ],
   "source": [
    "# Матрица ошибок\n",
    "df_cmg = pd.DataFrame(cmg, index = [i for i in \"10\"],\n",
    "                  columns = [i for i in \"10\"])\n",
    "plt.figure(figsize = (8,6))\n",
    "sns.heatmap(df_cmg, annot=True,annot_kws={\"size\": 20})"
   ]
  },
  {
   "cell_type": "code",
   "execution_count": 347,
   "metadata": {},
   "outputs": [],
   "source": [
    "from sklearn.metrics import roc_curve, auc\n",
    "false_positive_rate, true_positive_rate, thresholds = roc_curve(y_test, y_pred_xgb)\n",
    "roc_auc = auc(false_positive_rate, true_positive_rate)"
   ]
  },
  {
   "cell_type": "code",
   "execution_count": 348,
   "metadata": {},
   "outputs": [
    {
     "data": {
      "text/plain": [
       "Text(0.5, 0, 'False Positive Rate')"
      ]
     },
     "execution_count": 348,
     "metadata": {},
     "output_type": "execute_result"
    },
    {
     "data": {
      "image/png": "[encoded data removed]",
      "text/plain": [
       "<Figure size 720x720 with 1 Axes>"
      ]
     },
     "metadata": {
      "needs_background": "light"
     },
     "output_type": "display_data"
    }
   ],
   "source": [
    "# Строим ееееееее рок кривую \n",
    "\n",
    "plt.figure(figsize=(10,10))\n",
    "plt.title('Receiver Operating Characteristic')\n",
    "plt.plot(false_positive_rate,true_positive_rate, color='red',label = 'AUC = %0.2f' % roc_auc)\n",
    "plt.legend(loc = 'lower right')\n",
    "plt.plot([0, 1], [0, 1],linestyle='--')\n",
    "plt.axis('tight')\n",
    "plt.ylabel('True Positive Rate')\n",
    "plt.xlabel('False Positive Rate')"
   ]
  },
  {
   "cell_type": "code",
   "execution_count": 89,
   "metadata": {},
   "outputs": [
    {
     "name": "stderr",
     "output_type": "stream",
     "text": [
      "C:\\Users\\LENOVO\\Anaconda3\\lib\\site-packages\\sklearn\\ensemble\\forest.py:246: FutureWarning: The default value of n_estimators will change from 10 in version 0.20 to 100 in 0.22.\n",
      "  \"10 in version 0.20 to 100 in 0.22.\", FutureWarning)\n"
     ]
    },
    {
     "data": {
      "text/plain": [
       "0.9642857142857143"
      ]
     },
     "execution_count": 89,
     "metadata": {},
     "output_type": "execute_result"
    }
   ],
   "source": [
    "# Рандом форест \n",
    "from sklearn.ensemble import RandomForestClassifier\n",
    "rfc = RandomForestClassifier()\n",
    "rfc.fit(X_train,y_train)\n",
    "y_pred_rfc = rfc.predict(X_test)\n",
    "rfc.score(X_test,y_test)\n"
   ]
  },
  {
   "cell_type": "code",
   "execution_count": 82,
   "metadata": {},
   "outputs": [],
   "source": [
    "parameters = {\n",
    "    'max_depth':[8,20],\n",
    "    'n_estimators':[50,100,500],\n",
    "    'max_features':[1, 2, 4], \n",
    "    'min_samples_leaf': [3, 9]\n",
    "}"
   ]
  },
  {
   "cell_type": "code",
   "execution_count": 83,
   "metadata": {},
   "outputs": [
    {
     "name": "stdout",
     "output_type": "stream",
     "text": [
      "Fitting 5 folds for each of 36 candidates, totalling 180 fits\n"
     ]
    },
    {
     "name": "stderr",
     "output_type": "stream",
     "text": [
      "[Parallel(n_jobs=-1)]: Using backend LokyBackend with 4 concurrent workers.\n",
      "[Parallel(n_jobs=-1)]: Done   5 tasks      | elapsed:    5.1s\n",
      "[Parallel(n_jobs=-1)]: Done  10 tasks      | elapsed:    5.6s\n",
      "[Parallel(n_jobs=-1)]: Done  17 tasks      | elapsed:    7.2s\n",
      "[Parallel(n_jobs=-1)]: Done  24 tasks      | elapsed:    7.8s\n",
      "[Parallel(n_jobs=-1)]: Done  33 tasks      | elapsed:    9.7s\n",
      "[Parallel(n_jobs=-1)]: Done  42 tasks      | elapsed:   11.7s\n",
      "[Parallel(n_jobs=-1)]: Done  53 tasks      | elapsed:   12.6s\n",
      "[Parallel(n_jobs=-1)]: Done  64 tasks      | elapsed:   14.5s\n",
      "[Parallel(n_jobs=-1)]: Done  77 tasks      | elapsed:   16.9s\n",
      "[Parallel(n_jobs=-1)]: Done  90 tasks      | elapsed:   19.1s\n",
      "[Parallel(n_jobs=-1)]: Done 105 tasks      | elapsed:   21.6s\n",
      "[Parallel(n_jobs=-1)]: Done 120 tasks      | elapsed:   24.0s\n",
      "[Parallel(n_jobs=-1)]: Done 137 tasks      | elapsed:   26.8s\n",
      "[Parallel(n_jobs=-1)]: Done 154 tasks      | elapsed:   29.5s\n",
      "[Parallel(n_jobs=-1)]: Done 173 tasks      | elapsed:   32.6s\n",
      "[Parallel(n_jobs=-1)]: Done 180 out of 180 | elapsed:   35.1s finished\n"
     ]
    }
   ],
   "source": [
    "rfc_tuned = GridSearchCV(rfc,parameters,n_jobs=-1,scoring='roc_auc',cv=skf,verbose=10)\n",
    "rfc_tuned = rfc_tuned.fit(X_train,y_train)"
   ]
  },
  {
   "cell_type": "code",
   "execution_count": 84,
   "metadata": {},
   "outputs": [
    {
     "data": {
      "text/plain": [
       "RandomForestClassifier(bootstrap=True, class_weight=None, criterion='gini',\n",
       "            max_depth=8, max_features=1, max_leaf_nodes=None,\n",
       "            min_impurity_decrease=0.0, min_impurity_split=None,\n",
       "            min_samples_leaf=3, min_samples_split=2,\n",
       "            min_weight_fraction_leaf=0.0, n_estimators=500, n_jobs=None,\n",
       "            oob_score=False, random_state=None, verbose=0,\n",
       "            warm_start=False)"
      ]
     },
     "execution_count": 84,
     "metadata": {},
     "output_type": "execute_result"
    }
   ],
   "source": [
    "rfc_tuned.best_estimator_"
   ]
  },
  {
   "cell_type": "code",
   "execution_count": 87,
   "metadata": {},
   "outputs": [],
   "source": [
    "rfc_tuned = RandomForestClassifier(bootstrap=True, class_weight='balanced', criterion='gini',\n",
    "            max_depth=100, max_features=1, max_leaf_nodes=None,\n",
    "            min_impurity_decrease=0.0, min_impurity_split=None,\n",
    "            min_samples_leaf=3, min_samples_split=2,\n",
    "            min_weight_fraction_leaf=0.0, n_estimators=500, n_jobs=None,\n",
    "            oob_score=False, random_state=None, verbose=0,\n",
    "            warm_start=False)"
   ]
  },
  {
   "cell_type": "raw",
   "metadata": {},
   "source": []
  },
  {
   "cell_type": "code",
   "execution_count": 88,
   "metadata": {},
   "outputs": [
    {
     "data": {
      "text/plain": [
       "0.9785714285714285"
      ]
     },
     "execution_count": 88,
     "metadata": {},
     "output_type": "execute_result"
    }
   ],
   "source": [
    "rfc_tuned.fit(X_train,y_train)\n",
    "y_pred_rfc = rfc_tuned.predict(X_test)\n",
    "rfc_tuned.score(X_test,y_test)"
   ]
  },
  {
   "cell_type": "code",
   "execution_count": 91,
   "metadata": {},
   "outputs": [
    {
     "name": "stdout",
     "output_type": "stream",
     "text": [
      "Полнота: 0.9111111111111111\n",
      "Точность: 0.9646501457725947\n"
     ]
    }
   ],
   "source": [
    "recall = metrics.recall_score(y_test,y_pred_rfc)\n",
    "print('Полнота:',recall)\n",
    "\n",
    "precision = metrics.precision_score(y_test,y_pred_rfc,average='weighted')\n",
    "print('Точность:',precision)"
   ]
  },
  {
   "cell_type": "code",
   "execution_count": 92,
   "metadata": {},
   "outputs": [
    {
     "data": {
      "text/plain": [
       "array([[94,  1],\n",
       "       [ 4, 41]], dtype=int64)"
      ]
     },
     "execution_count": 92,
     "metadata": {},
     "output_type": "execute_result"
    }
   ],
   "source": [
    "from sklearn.metrics import confusion_matrix\n",
    "cmg = confusion_matrix(y_test,y_pred_rfc)\n",
    "cmg\n"
   ]
  },
  {
   "cell_type": "code",
   "execution_count": 93,
   "metadata": {},
   "outputs": [
    {
     "data": {
      "text/plain": [
       "array([0, 0, 0, 1, 0, 0, 0, 1, 0, 0, 0, 1, 0, 0, 0, 1, 0, 1, 0, 1, 1, 0,\n",
       "       1, 0, 1, 0, 0, 1, 0, 1, 0, 0, 0, 1, 0, 0, 0, 1, 0, 1, 0, 0, 1, 0,\n",
       "       0, 0, 0, 0, 0, 0, 0, 0, 1, 0, 1, 0, 0, 1, 0, 0, 0, 0, 1, 0, 0, 0,\n",
       "       1, 1, 0, 0, 1, 0, 1, 0, 0, 0, 0, 1, 0, 0, 0, 0, 0, 0, 0, 1, 1, 0,\n",
       "       0, 0, 0, 0, 1, 0, 0, 1, 0, 0, 0, 0, 0, 0, 0, 1, 1, 0, 1, 0, 0, 1,\n",
       "       1, 0, 0, 0, 0, 1, 0, 0, 0, 0, 0, 1, 0, 0, 1, 1, 0, 0, 1, 1, 0, 0,\n",
       "       1, 0, 1, 0, 1, 0, 0, 0], dtype=int64)"
      ]
     },
     "execution_count": 93,
     "metadata": {},
     "output_type": "execute_result"
    }
   ],
   "source": [
    "y_pred_rfc"
   ]
  },
  {
   "cell_type": "code",
   "execution_count": 21,
   "metadata": {},
   "outputs": [],
   "source": [
    "from catboost import CatBoostClassifier"
   ]
  },
  {
   "cell_type": "code",
   "execution_count": 31,
   "metadata": {},
   "outputs": [
    {
     "name": "stdout",
     "output_type": "stream",
     "text": [
      "0:\tlearn: 0.5287124\ttotal: 635ms\tremaining: 2.54s\n",
      "1:\tlearn: 0.4195558\ttotal: 691ms\tremaining: 1.04s\n",
      "2:\tlearn: 0.3397047\ttotal: 747ms\tremaining: 498ms\n",
      "3:\tlearn: 0.2838342\ttotal: 792ms\tremaining: 198ms\n",
      "4:\tlearn: 0.2321259\ttotal: 849ms\tremaining: 0us\n"
     ]
    },
    {
     "data": {
      "text/plain": [
       "0.9714285714285714"
      ]
     },
     "execution_count": 31,
     "metadata": {},
     "output_type": "execute_result"
    }
   ],
   "source": [
    "cb = CatBoostClassifier(learning_rate=0.1,iterations=5)\n",
    "cb.fit(X_train,y_train)\n",
    "cb.predict(X_test)\n",
    "cb.score(X_test,y_test)"
   ]
  },
  {
   "cell_type": "code",
   "execution_count": 28,
   "metadata": {},
   "outputs": [
    {
     "data": {
      "text/plain": [
       "\u001b[1;31mInit signature:\u001b[0m\n",
       "\u001b[0mCatBoostClassifier\u001b[0m\u001b[1;33m(\u001b[0m\u001b[1;33m\n",
       "\u001b[0m    \u001b[1;33m[\u001b[0m\u001b[1;34m'iterations=None'\u001b[0m\u001b[1;33m,\u001b[0m \u001b[1;34m'learning_rate=None'\u001b[0m\u001b[1;33m,\u001b[0m \u001b[1;34m'depth=None'\u001b[0m\u001b[1;33m,\u001b[0m \u001b[1;34m'l2_leaf_reg=None'\u001b[0m\u001b[1;33m,\u001b[0m \u001b[1;34m'model_size_reg=None'\u001b[0m\u001b[1;33m,\u001b[0m \u001b[1;34m'rsm=None'\u001b[0m\u001b[1;33m,\u001b[0m \u001b[1;34m\"loss_function='Logloss'\"\u001b[0m\u001b[1;33m,\u001b[0m \u001b[1;34m'border_count=None'\u001b[0m\u001b[1;33m,\u001b[0m \u001b[1;34m'feature_border_type=None'\u001b[0m\u001b[1;33m,\u001b[0m \u001b[1;34m'input_borders=None'\u001b[0m\u001b[1;33m,\u001b[0m \u001b[1;34m'output_borders=None'\u001b[0m\u001b[1;33m,\u001b[0m \u001b[1;34m'fold_permutation_block=None'\u001b[0m\u001b[1;33m,\u001b[0m \u001b[1;34m'od_pval=None'\u001b[0m\u001b[1;33m,\u001b[0m \u001b[1;34m'od_wait=None'\u001b[0m\u001b[1;33m,\u001b[0m \u001b[1;34m'od_type=None'\u001b[0m\u001b[1;33m,\u001b[0m \u001b[1;34m'nan_mode=None'\u001b[0m\u001b[1;33m,\u001b[0m \u001b[1;34m'counter_calc_method=None'\u001b[0m\u001b[1;33m,\u001b[0m \u001b[1;34m'leaf_estimation_iterations=None'\u001b[0m\u001b[1;33m,\u001b[0m \u001b[1;34m'leaf_estimation_method=None'\u001b[0m\u001b[1;33m,\u001b[0m \u001b[1;34m'thread_count=None'\u001b[0m\u001b[1;33m,\u001b[0m \u001b[1;34m'random_seed=None'\u001b[0m\u001b[1;33m,\u001b[0m \u001b[1;34m'use_best_model=None'\u001b[0m\u001b[1;33m,\u001b[0m \u001b[1;34m'best_model_min_trees=None'\u001b[0m\u001b[1;33m,\u001b[0m \u001b[1;34m'verbose=None'\u001b[0m\u001b[1;33m,\u001b[0m \u001b[1;34m'silent=None'\u001b[0m\u001b[1;33m,\u001b[0m \u001b[1;34m'logging_level=None'\u001b[0m\u001b[1;33m,\u001b[0m \u001b[1;34m'metric_period=None'\u001b[0m\u001b[1;33m,\u001b[0m \u001b[1;34m'ctr_leaf_count_limit=None'\u001b[0m\u001b[1;33m,\u001b[0m \u001b[1;34m'store_all_simple_ctr=None'\u001b[0m\u001b[1;33m,\u001b[0m \u001b[1;34m'max_ctr_complexity=None'\u001b[0m\u001b[1;33m,\u001b[0m \u001b[1;34m'has_time=None'\u001b[0m\u001b[1;33m,\u001b[0m \u001b[1;34m'allow_const_label=None'\u001b[0m\u001b[1;33m,\u001b[0m \u001b[1;34m'classes_count=None'\u001b[0m\u001b[1;33m,\u001b[0m \u001b[1;34m'class_weights=None'\u001b[0m\u001b[1;33m,\u001b[0m \u001b[1;34m'class_names=None'\u001b[0m\u001b[1;33m,\u001b[0m \u001b[1;34m'one_hot_max_size=None'\u001b[0m\u001b[1;33m,\u001b[0m \u001b[1;34m'random_strength=None'\u001b[0m\u001b[1;33m,\u001b[0m \u001b[1;34m'name=None'\u001b[0m\u001b[1;33m,\u001b[0m \u001b[1;34m'ignored_features=None'\u001b[0m\u001b[1;33m,\u001b[0m \u001b[1;34m'train_dir=None'\u001b[0m\u001b[1;33m,\u001b[0m \u001b[1;34m'custom_loss=None'\u001b[0m\u001b[1;33m,\u001b[0m \u001b[1;34m'custom_metric=None'\u001b[0m\u001b[1;33m,\u001b[0m \u001b[1;34m'eval_metric=None'\u001b[0m\u001b[1;33m,\u001b[0m \u001b[1;34m'bagging_temperature=None'\u001b[0m\u001b[1;33m,\u001b[0m \u001b[1;34m'save_snapshot=None'\u001b[0m\u001b[1;33m,\u001b[0m \u001b[1;34m'snapshot_file=None'\u001b[0m\u001b[1;33m,\u001b[0m \u001b[1;34m'snapshot_interval=None'\u001b[0m\u001b[1;33m,\u001b[0m \u001b[1;34m'fold_len_multiplier=None'\u001b[0m\u001b[1;33m,\u001b[0m \u001b[1;34m'used_ram_limit=None'\u001b[0m\u001b[1;33m,\u001b[0m \u001b[1;34m'gpu_ram_part=None'\u001b[0m\u001b[1;33m,\u001b[0m \u001b[1;34m'pinned_memory_size=None'\u001b[0m\u001b[1;33m,\u001b[0m \u001b[1;34m'allow_writing_files=None'\u001b[0m\u001b[1;33m,\u001b[0m \u001b[1;34m'final_ctr_computation_mode=None'\u001b[0m\u001b[1;33m,\u001b[0m \u001b[1;34m'approx_on_full_history=None'\u001b[0m\u001b[1;33m,\u001b[0m \u001b[1;34m'boosting_type=None'\u001b[0m\u001b[1;33m,\u001b[0m \u001b[1;34m'simple_ctr=None'\u001b[0m\u001b[1;33m,\u001b[0m \u001b[1;34m'combinations_ctr=None'\u001b[0m\u001b[1;33m,\u001b[0m \u001b[1;34m'per_feature_ctr=None'\u001b[0m\u001b[1;33m,\u001b[0m \u001b[1;34m'ctr_description=None'\u001b[0m\u001b[1;33m,\u001b[0m \u001b[1;34m'ctr_target_border_count=None'\u001b[0m\u001b[1;33m,\u001b[0m \u001b[1;34m'task_type=None'\u001b[0m\u001b[1;33m,\u001b[0m \u001b[1;34m'device_config=None'\u001b[0m\u001b[1;33m,\u001b[0m \u001b[1;34m'devices=None'\u001b[0m\u001b[1;33m,\u001b[0m \u001b[1;34m'bootstrap_type=None'\u001b[0m\u001b[1;33m,\u001b[0m \u001b[1;34m'subsample=None'\u001b[0m\u001b[1;33m,\u001b[0m \u001b[1;34m'sampling_unit=None'\u001b[0m\u001b[1;33m,\u001b[0m \u001b[1;34m'dev_score_calc_obj_block_size=None'\u001b[0m\u001b[1;33m,\u001b[0m \u001b[1;34m'dev_efb_max_buckets=None'\u001b[0m\u001b[1;33m,\u001b[0m \u001b[1;34m'efb_max_conflict_fraction=None'\u001b[0m\u001b[1;33m,\u001b[0m \u001b[1;34m'max_depth=None'\u001b[0m\u001b[1;33m,\u001b[0m \u001b[1;34m'n_estimators=None'\u001b[0m\u001b[1;33m,\u001b[0m \u001b[1;34m'num_boost_round=None'\u001b[0m\u001b[1;33m,\u001b[0m \u001b[1;34m'num_trees=None'\u001b[0m\u001b[1;33m,\u001b[0m \u001b[1;34m'colsample_bylevel=None'\u001b[0m\u001b[1;33m,\u001b[0m \u001b[1;34m'random_state=None'\u001b[0m\u001b[1;33m,\u001b[0m \u001b[1;34m'reg_lambda=None'\u001b[0m\u001b[1;33m,\u001b[0m \u001b[1;34m'objective=None'\u001b[0m\u001b[1;33m,\u001b[0m \u001b[1;34m'eta=None'\u001b[0m\u001b[1;33m,\u001b[0m \u001b[1;34m'max_bin=None'\u001b[0m\u001b[1;33m,\u001b[0m \u001b[1;34m'scale_pos_weight=None'\u001b[0m\u001b[1;33m,\u001b[0m \u001b[1;34m'gpu_cat_features_storage=None'\u001b[0m\u001b[1;33m,\u001b[0m \u001b[1;34m'data_partition=None'\u001b[0m\u001b[1;33m,\u001b[0m \u001b[1;34m'metadata=None'\u001b[0m\u001b[1;33m,\u001b[0m \u001b[1;34m'early_stopping_rounds=None'\u001b[0m\u001b[1;33m,\u001b[0m \u001b[1;34m'cat_features=None'\u001b[0m\u001b[1;33m,\u001b[0m \u001b[1;34m'grow_policy=None'\u001b[0m\u001b[1;33m,\u001b[0m \u001b[1;34m'min_data_in_leaf=None'\u001b[0m\u001b[1;33m,\u001b[0m \u001b[1;34m'max_leaves=None'\u001b[0m\u001b[1;33m,\u001b[0m \u001b[1;34m'score_function=None'\u001b[0m\u001b[1;33m,\u001b[0m \u001b[1;34m'leaf_estimation_backtracking=None'\u001b[0m\u001b[1;33m,\u001b[0m \u001b[1;34m'ctr_history_unit=None'\u001b[0m\u001b[1;33m]\u001b[0m\u001b[1;33m,\u001b[0m\u001b[1;33m\n",
       "\u001b[0m\u001b[1;33m)\u001b[0m\u001b[1;33m\u001b[0m\u001b[1;33m\u001b[0m\u001b[0m\n",
       "\u001b[1;31mDocstring:\u001b[0m      CatBoost model. Contains training, prediction and evaluation methods.\n",
       "\u001b[1;31mInit docstring:\u001b[0m\n",
       "Initialize the CatBoost.\n",
       "\n",
       "Parameters\n",
       "----------\n",
       "params : dict\n",
       "    Parameters for CatBoost.\n",
       "    If  None, all params are set to their defaults.\n",
       "    If  dict, overriding parameters present in dict.\n",
       "\u001b[1;31mFile:\u001b[0m           c:\\users\\lenovo\\anaconda3\\lib\\site-packages\\catboost\\core.py\n",
       "\u001b[1;31mType:\u001b[0m           type\n",
       "\u001b[1;31mSubclasses:\u001b[0m     \n"
      ]
     },
     "metadata": {},
     "output_type": "display_data"
    }
   ],
   "source": [
    "CatBoostClassifier?"
   ]
  },
  {
   "cell_type": "code",
   "execution_count": 32,
   "metadata": {},
   "outputs": [],
   "source": [
    "params = {\n",
    "    'iterations': [5,7,10],\n",
    "    'learning_rate': [0.01,0.1,1],\n",
    "    'depth': [3,6,9] \n",
    "}"
   ]
  },
  {
   "cell_type": "code",
   "execution_count": 33,
   "metadata": {},
   "outputs": [
    {
     "name": "stdout",
     "output_type": "stream",
     "text": [
      "Fitting 5 folds for each of 27 candidates, totalling 135 fits\n"
     ]
    },
    {
     "name": "stderr",
     "output_type": "stream",
     "text": [
      "[Parallel(n_jobs=-1)]: Using backend LokyBackend with 4 concurrent workers.\n",
      "[Parallel(n_jobs=-1)]: Done   5 tasks      | elapsed:   37.7s\n",
      "[Parallel(n_jobs=-1)]: Done  10 tasks      | elapsed:   39.5s\n",
      "[Parallel(n_jobs=-1)]: Done  17 tasks      | elapsed:   47.0s\n",
      "[Parallel(n_jobs=-1)]: Done  24 tasks      | elapsed:   50.9s\n",
      "[Parallel(n_jobs=-1)]: Done  33 tasks      | elapsed:  1.0min\n",
      "[Parallel(n_jobs=-1)]: Done  42 tasks      | elapsed:  1.1min\n",
      "[Parallel(n_jobs=-1)]: Done  53 tasks      | elapsed:  1.2min\n",
      "[Parallel(n_jobs=-1)]: Done  64 tasks      | elapsed:  1.3min\n",
      "[Parallel(n_jobs=-1)]: Done  77 tasks      | elapsed:  1.4min\n",
      "[Parallel(n_jobs=-1)]: Done  90 tasks      | elapsed:  1.5min\n",
      "[Parallel(n_jobs=-1)]: Done 105 tasks      | elapsed:  1.7min\n",
      "[Parallel(n_jobs=-1)]: Done 120 tasks      | elapsed:  1.9min\n",
      "[Parallel(n_jobs=-1)]: Done 135 out of 135 | elapsed:  2.1min finished\n"
     ]
    },
    {
     "name": "stdout",
     "output_type": "stream",
     "text": [
      "0:\tlearn: 0.6749004\ttotal: 107ms\tremaining: 644ms\n",
      "1:\tlearn: 0.6556790\ttotal: 248ms\tremaining: 621ms\n",
      "2:\tlearn: 0.6379727\ttotal: 546ms\tremaining: 728ms\n",
      "3:\tlearn: 0.6211316\ttotal: 704ms\tremaining: 528ms\n",
      "4:\tlearn: 0.6050371\ttotal: 869ms\tremaining: 348ms\n",
      "5:\tlearn: 0.5896686\ttotal: 1.03s\tremaining: 172ms\n",
      "6:\tlearn: 0.5738834\ttotal: 1.09s\tremaining: 0us\n"
     ]
    }
   ],
   "source": [
    "cb_tuned = GridSearchCV(cb,params,n_jobs=-1,scoring='roc_auc',cv=skf,verbose=10)\n",
    "cb_tuned = cb_tuned.fit(X_train,y_train)"
   ]
  },
  {
   "cell_type": "code",
   "execution_count": 34,
   "metadata": {},
   "outputs": [
    {
     "data": {
      "text/plain": [
       "0.98935128546531"
      ]
     },
     "execution_count": 34,
     "metadata": {},
     "output_type": "execute_result"
    }
   ],
   "source": [
    "cb_tuned.best_score_"
   ]
  },
  {
   "cell_type": "code",
   "execution_count": 40,
   "metadata": {},
   "outputs": [
    {
     "data": {
      "text/plain": [
       "<catboost.core.CatBoostClassifier at 0x21bc6aadbe0>"
      ]
     },
     "execution_count": 40,
     "metadata": {},
     "output_type": "execute_result"
    }
   ],
   "source": [
    "cb_tuned.best_estimator_"
   ]
  },
  {
   "cell_type": "code",
   "execution_count": 35,
   "metadata": {},
   "outputs": [
    {
     "data": {
      "text/plain": [
       "0.9971929824561404"
      ]
     },
     "execution_count": 35,
     "metadata": {},
     "output_type": "execute_result"
    }
   ],
   "source": [
    "y_pred_cb=cb_tuned.predict(X_test)\n",
    "cb_tuned.score(X_test,y_test)\n"
   ]
  },
  {
   "cell_type": "code",
   "execution_count": 48,
   "metadata": {},
   "outputs": [
    {
     "data": {
      "text/plain": [
       "array([[93,  2],\n",
       "       [ 2, 43]], dtype=int64)"
      ]
     },
     "execution_count": 48,
     "metadata": {},
     "output_type": "execute_result"
    }
   ],
   "source": [
    "cm = confusion_matrix(y_test,y_pred_cb)\n",
    "cm"
   ]
  },
  {
   "cell_type": "code",
   "execution_count": 41,
   "metadata": {},
   "outputs": [],
   "source": [
    "skf = StratifiedKFold(n_splits=10,shuffle=True,random_state=42)"
   ]
  },
  {
   "cell_type": "code",
   "execution_count": 42,
   "metadata": {},
   "outputs": [],
   "source": [
    "# рисуем кривую обучения\n",
    "def plot_learning_curve(estimator, title, X, y, ylim=None, cv=None,\n",
    "                        n_jobs=None, train_sizes=np.linspace(.1, 1.0, 5)):\n",
    "    plt.figure()\n",
    "    plt.title(title)\n",
    "    if ylim is not None:\n",
    "        plt.ylim(*ylim)\n",
    "    plt.xlabel(\"Training examples\")\n",
    "    plt.ylabel(\"Score\")\n",
    "    train_sizes, train_scores, test_scores = learning_curve(\n",
    "        estimator, X, y, cv=cv, n_jobs=n_jobs, train_sizes=train_sizes)\n",
    "    train_scores_mean = np.mean(train_scores, axis=1)\n",
    "    train_scores_std = np.std(train_scores, axis=1)\n",
    "    test_scores_mean = np.mean(test_scores, axis=1)\n",
    "    test_scores_std = np.std(test_scores, axis=1)\n",
    "    plt.grid()\n",
    "\n",
    "    plt.fill_between(train_sizes, train_scores_mean - train_scores_std,\n",
    "                     train_scores_mean + train_scores_std, alpha=0.1,\n",
    "                     color=\"r\")\n",
    "    plt.fill_between(train_sizes, test_scores_mean - test_scores_std,\n",
    "                     test_scores_mean + test_scores_std, alpha=0.1, color=\"g\")\n",
    "    plt.plot(train_sizes, train_scores_mean, 'o-', color=\"r\",\n",
    "             label=\"Training score\")\n",
    "    plt.plot(train_sizes, test_scores_mean, 'o-', color=\"g\",\n",
    "             label=\"Cross-validation score\")\n",
    "\n",
    "    plt.legend(loc=\"best\")\n",
    "    return plt"
   ]
  },
  {
   "cell_type": "code",
   "execution_count": 43,
   "metadata": {},
   "outputs": [
    {
     "data": {
      "text/plain": [
       "<module 'matplotlib.pyplot' from 'C:\\\\Users\\\\LENOVO\\\\Anaconda3\\\\lib\\\\site-packages\\\\matplotlib\\\\pyplot.py'>"
      ]
     },
     "execution_count": 43,
     "metadata": {},
     "output_type": "execute_result"
    },
    {
     "data": {
      "image/png": "[encoded data removed]",
      "text/plain": [
       "<Figure size 432x288 with 1 Axes>"
      ]
     },
     "metadata": {
      "needs_background": "light"
     },
     "output_type": "display_data"
    }
   ],
   "source": [
    "title = 'Learning curve CatBoost'\n",
    "estimator = cb_tuned.best_estimator_\n",
    "\n",
    "plot_learning_curve(estimator, title, X, y, ylim=(0.7, 1.01), cv=skf, n_jobs=4)"
   ]
  },
  {
   "cell_type": "code",
   "execution_count": 58,
   "metadata": {},
   "outputs": [],
   "source": [
    "from sklearn.ensemble import AdaBoostClassifier"
   ]
  },
  {
   "cell_type": "code",
   "execution_count": 66,
   "metadata": {},
   "outputs": [],
   "source": [
    "abc = AdaBoostClassifier(estimator,10,0.1,'SAMME')"
   ]
  },
  {
   "cell_type": "code",
   "execution_count": 67,
   "metadata": {},
   "outputs": [
    {
     "name": "stdout",
     "output_type": "stream",
     "text": [
      "0:\tlearn: 0.6734263\ttotal: 71.8ms\tremaining: 431ms\n",
      "1:\tlearn: 0.6566030\ttotal: 144ms\tremaining: 360ms\n",
      "2:\tlearn: 0.6366234\ttotal: 233ms\tremaining: 310ms\n",
      "3:\tlearn: 0.6200667\ttotal: 313ms\tremaining: 235ms\n",
      "4:\tlearn: 0.6020806\ttotal: 396ms\tremaining: 158ms\n",
      "5:\tlearn: 0.5861340\ttotal: 463ms\tremaining: 77.2ms\n",
      "6:\tlearn: 0.5748320\ttotal: 526ms\tremaining: 0us\n",
      "0:\tlearn: 0.6738020\ttotal: 78.4ms\tremaining: 470ms\n",
      "1:\tlearn: 0.6558288\ttotal: 159ms\tremaining: 399ms\n",
      "2:\tlearn: 0.6408029\ttotal: 217ms\tremaining: 290ms\n",
      "3:\tlearn: 0.6233184\ttotal: 309ms\tremaining: 232ms\n",
      "4:\tlearn: 0.6066236\ttotal: 387ms\tremaining: 155ms\n",
      "5:\tlearn: 0.5917537\ttotal: 452ms\tremaining: 75.3ms\n",
      "6:\tlearn: 0.5773854\ttotal: 506ms\tremaining: 0us\n",
      "0:\tlearn: 0.6751894\ttotal: 108ms\tremaining: 649ms\n",
      "1:\tlearn: 0.6603225\ttotal: 204ms\tremaining: 509ms\n",
      "2:\tlearn: 0.6438843\ttotal: 276ms\tremaining: 368ms\n",
      "3:\tlearn: 0.6281196\ttotal: 353ms\tremaining: 265ms\n",
      "4:\tlearn: 0.6145225\ttotal: 433ms\tremaining: 173ms\n",
      "5:\tlearn: 0.6012472\ttotal: 509ms\tremaining: 84.8ms\n",
      "6:\tlearn: 0.5866179\ttotal: 572ms\tremaining: 0us\n",
      "0:\tlearn: 0.6739117\ttotal: 93.6ms\tremaining: 562ms\n",
      "1:\tlearn: 0.6604362\ttotal: 181ms\tremaining: 452ms\n",
      "2:\tlearn: 0.6466289\ttotal: 239ms\tremaining: 319ms\n",
      "3:\tlearn: 0.6320047\ttotal: 318ms\tremaining: 238ms\n",
      "4:\tlearn: 0.6182590\ttotal: 393ms\tremaining: 157ms\n",
      "5:\tlearn: 0.6054676\ttotal: 504ms\tremaining: 84.1ms\n",
      "6:\tlearn: 0.5937164\ttotal: 577ms\tremaining: 0us\n",
      "0:\tlearn: 0.6793350\ttotal: 72.3ms\tremaining: 434ms\n",
      "1:\tlearn: 0.6643781\ttotal: 143ms\tremaining: 357ms\n",
      "2:\tlearn: 0.6523531\ttotal: 208ms\tremaining: 277ms\n",
      "3:\tlearn: 0.6379733\ttotal: 315ms\tremaining: 236ms\n",
      "4:\tlearn: 0.6276810\ttotal: 382ms\tremaining: 153ms\n",
      "5:\tlearn: 0.6173414\ttotal: 462ms\tremaining: 77.1ms\n",
      "6:\tlearn: 0.6069892\ttotal: 523ms\tremaining: 0us\n",
      "0:\tlearn: 0.6804101\ttotal: 48.5ms\tremaining: 291ms\n",
      "1:\tlearn: 0.6675740\ttotal: 111ms\tremaining: 278ms\n",
      "2:\tlearn: 0.6567236\ttotal: 154ms\tremaining: 205ms\n",
      "3:\tlearn: 0.6439749\ttotal: 230ms\tremaining: 172ms\n",
      "4:\tlearn: 0.6334127\ttotal: 301ms\tremaining: 120ms\n",
      "5:\tlearn: 0.6247525\ttotal: 374ms\tremaining: 62.4ms\n",
      "6:\tlearn: 0.6147127\ttotal: 439ms\tremaining: 0us\n",
      "0:\tlearn: 0.6814253\ttotal: 83.9ms\tremaining: 503ms\n",
      "1:\tlearn: 0.6688931\ttotal: 177ms\tremaining: 443ms\n",
      "2:\tlearn: 0.6557456\ttotal: 274ms\tremaining: 365ms\n",
      "3:\tlearn: 0.6438475\ttotal: 400ms\tremaining: 300ms\n",
      "4:\tlearn: 0.6354368\ttotal: 459ms\tremaining: 184ms\n",
      "5:\tlearn: 0.6251173\ttotal: 525ms\tremaining: 87.5ms\n",
      "6:\tlearn: 0.6103261\ttotal: 660ms\tremaining: 0us\n",
      "0:\tlearn: 0.6824924\ttotal: 69ms\tremaining: 414ms\n",
      "1:\tlearn: 0.6698542\ttotal: 134ms\tremaining: 336ms\n",
      "2:\tlearn: 0.6575986\ttotal: 199ms\tremaining: 266ms\n",
      "3:\tlearn: 0.6465994\ttotal: 255ms\tremaining: 191ms\n",
      "4:\tlearn: 0.6388394\ttotal: 311ms\tremaining: 125ms\n",
      "5:\tlearn: 0.6230412\ttotal: 376ms\tremaining: 62.6ms\n",
      "6:\tlearn: 0.6093624\ttotal: 483ms\tremaining: 0us\n",
      "0:\tlearn: 0.6787787\ttotal: 172ms\tremaining: 1.03s\n",
      "1:\tlearn: 0.6654685\ttotal: 319ms\tremaining: 797ms\n",
      "2:\tlearn: 0.6508823\ttotal: 545ms\tremaining: 727ms\n",
      "3:\tlearn: 0.6442031\ttotal: 670ms\tremaining: 502ms\n",
      "4:\tlearn: 0.6326059\ttotal: 829ms\tremaining: 332ms\n",
      "5:\tlearn: 0.6180691\ttotal: 963ms\tremaining: 161ms\n",
      "6:\tlearn: 0.6064763\ttotal: 1.17s\tremaining: 0us\n",
      "0:\tlearn: 0.6810487\ttotal: 155ms\tremaining: 932ms\n",
      "1:\tlearn: 0.6659806\ttotal: 257ms\tremaining: 644ms\n",
      "2:\tlearn: 0.6570881\ttotal: 307ms\tremaining: 410ms\n",
      "3:\tlearn: 0.6487557\ttotal: 346ms\tremaining: 259ms\n",
      "4:\tlearn: 0.6365567\ttotal: 433ms\tremaining: 173ms\n",
      "5:\tlearn: 0.6224624\ttotal: 512ms\tremaining: 85.3ms\n",
      "6:\tlearn: 0.6151123\ttotal: 568ms\tremaining: 0us\n"
     ]
    },
    {
     "data": {
      "text/plain": [
       "0.9571428571428572"
      ]
     },
     "execution_count": 67,
     "metadata": {},
     "output_type": "execute_result"
    }
   ],
   "source": [
    "abc.fit(X_train,y_train)\n",
    "abc.predict(X_test)\n",
    "abc.score(X_test,y_test)"
   ]
  },
  {
   "cell_type": "code",
   "execution_count": null,
   "metadata": {},
   "outputs": [],
   "source": []
  },
  {
   "cell_type": "code",
   "execution_count": null,
   "metadata": {},
   "outputs": [],
   "source": []
  },
  {
   "cell_type": "code",
   "execution_count": null,
   "metadata": {},
   "outputs": [],
   "source": []
  }
 ],
 "metadata": {
  "kernelspec": {
   "display_name": "Python 3",
   "language": "python",
   "name": "python3"
  },
  "language_info": {
   "codemirror_mode": {
    "name": "ipython",
    "version": 3
   },
   "file_extension": ".py",
   "mimetype": "text/x-python",
   "name": "python",
   "nbconvert_exporter": "python",
   "pygments_lexer": "ipython3",
   "version": "3.7.1"
  }
 },
 "nbformat": 4,
 "nbformat_minor": 2
}
